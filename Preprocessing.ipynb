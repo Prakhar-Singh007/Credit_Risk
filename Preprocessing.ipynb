{
 "cells": [
  {
   "cell_type": "code",
   "execution_count": 1,
   "id": "4c22dd40",
   "metadata": {},
   "outputs": [],
   "source": [
    "import pandas as pd\n",
    "import numpy as np\n",
    "import seaborn as sns\n",
    "import matplotlib.pyplot as plt\n",
    "import plotly.express as px"
   ]
  },
  {
   "cell_type": "code",
   "execution_count": 5,
   "id": "0a7ac5b5",
   "metadata": {},
   "outputs": [],
   "source": [
    "base_credit = pd.read_csv('credit_risk_dataset.csv')\n",
    "base_credit = base_credit.dropna()\n",
    "base_credit = base_credit[base_credit['person_age'] <= 84]"
   ]
  },
  {
   "cell_type": "code",
   "execution_count": 6,
   "id": "0e75d9e6",
   "metadata": {},
   "outputs": [
    {
     "data": {
      "text/html": [
       "<div>\n",
       "<style scoped>\n",
       "    .dataframe tbody tr th:only-of-type {\n",
       "        vertical-align: middle;\n",
       "    }\n",
       "\n",
       "    .dataframe tbody tr th {\n",
       "        vertical-align: top;\n",
       "    }\n",
       "\n",
       "    .dataframe thead th {\n",
       "        text-align: right;\n",
       "    }\n",
       "</style>\n",
       "<table border=\"1\" class=\"dataframe\">\n",
       "  <thead>\n",
       "    <tr style=\"text-align: right;\">\n",
       "      <th></th>\n",
       "      <th>person_age</th>\n",
       "      <th>person_income</th>\n",
       "      <th>person_home_ownership</th>\n",
       "      <th>person_emp_length</th>\n",
       "      <th>loan_intent</th>\n",
       "      <th>loan_grade</th>\n",
       "      <th>loan_amnt</th>\n",
       "      <th>loan_int_rate</th>\n",
       "      <th>loan_percent_income</th>\n",
       "      <th>cb_person_default_on_file</th>\n",
       "      <th>cb_person_cred_hist_length</th>\n",
       "    </tr>\n",
       "  </thead>\n",
       "  <tbody>\n",
       "    <tr>\n",
       "      <th>0</th>\n",
       "      <td>22</td>\n",
       "      <td>59000</td>\n",
       "      <td>RENT</td>\n",
       "      <td>123.0</td>\n",
       "      <td>PERSONAL</td>\n",
       "      <td>D</td>\n",
       "      <td>35000</td>\n",
       "      <td>16.02</td>\n",
       "      <td>0.59</td>\n",
       "      <td>Y</td>\n",
       "      <td>3</td>\n",
       "    </tr>\n",
       "    <tr>\n",
       "      <th>1</th>\n",
       "      <td>21</td>\n",
       "      <td>9600</td>\n",
       "      <td>OWN</td>\n",
       "      <td>5.0</td>\n",
       "      <td>EDUCATION</td>\n",
       "      <td>B</td>\n",
       "      <td>1000</td>\n",
       "      <td>11.14</td>\n",
       "      <td>0.10</td>\n",
       "      <td>N</td>\n",
       "      <td>2</td>\n",
       "    </tr>\n",
       "    <tr>\n",
       "      <th>2</th>\n",
       "      <td>25</td>\n",
       "      <td>9600</td>\n",
       "      <td>MORTGAGE</td>\n",
       "      <td>1.0</td>\n",
       "      <td>MEDICAL</td>\n",
       "      <td>C</td>\n",
       "      <td>5500</td>\n",
       "      <td>12.87</td>\n",
       "      <td>0.57</td>\n",
       "      <td>N</td>\n",
       "      <td>3</td>\n",
       "    </tr>\n",
       "    <tr>\n",
       "      <th>3</th>\n",
       "      <td>23</td>\n",
       "      <td>65500</td>\n",
       "      <td>RENT</td>\n",
       "      <td>4.0</td>\n",
       "      <td>MEDICAL</td>\n",
       "      <td>C</td>\n",
       "      <td>35000</td>\n",
       "      <td>15.23</td>\n",
       "      <td>0.53</td>\n",
       "      <td>N</td>\n",
       "      <td>2</td>\n",
       "    </tr>\n",
       "    <tr>\n",
       "      <th>4</th>\n",
       "      <td>24</td>\n",
       "      <td>54400</td>\n",
       "      <td>RENT</td>\n",
       "      <td>8.0</td>\n",
       "      <td>MEDICAL</td>\n",
       "      <td>C</td>\n",
       "      <td>35000</td>\n",
       "      <td>14.27</td>\n",
       "      <td>0.55</td>\n",
       "      <td>Y</td>\n",
       "      <td>4</td>\n",
       "    </tr>\n",
       "    <tr>\n",
       "      <th>...</th>\n",
       "      <td>...</td>\n",
       "      <td>...</td>\n",
       "      <td>...</td>\n",
       "      <td>...</td>\n",
       "      <td>...</td>\n",
       "      <td>...</td>\n",
       "      <td>...</td>\n",
       "      <td>...</td>\n",
       "      <td>...</td>\n",
       "      <td>...</td>\n",
       "      <td>...</td>\n",
       "    </tr>\n",
       "    <tr>\n",
       "      <th>32576</th>\n",
       "      <td>57</td>\n",
       "      <td>53000</td>\n",
       "      <td>MORTGAGE</td>\n",
       "      <td>1.0</td>\n",
       "      <td>PERSONAL</td>\n",
       "      <td>C</td>\n",
       "      <td>5800</td>\n",
       "      <td>13.16</td>\n",
       "      <td>0.11</td>\n",
       "      <td>N</td>\n",
       "      <td>30</td>\n",
       "    </tr>\n",
       "    <tr>\n",
       "      <th>32577</th>\n",
       "      <td>54</td>\n",
       "      <td>120000</td>\n",
       "      <td>MORTGAGE</td>\n",
       "      <td>4.0</td>\n",
       "      <td>PERSONAL</td>\n",
       "      <td>A</td>\n",
       "      <td>17625</td>\n",
       "      <td>7.49</td>\n",
       "      <td>0.15</td>\n",
       "      <td>N</td>\n",
       "      <td>19</td>\n",
       "    </tr>\n",
       "    <tr>\n",
       "      <th>32578</th>\n",
       "      <td>65</td>\n",
       "      <td>76000</td>\n",
       "      <td>RENT</td>\n",
       "      <td>3.0</td>\n",
       "      <td>HOMEIMPROVEMENT</td>\n",
       "      <td>B</td>\n",
       "      <td>35000</td>\n",
       "      <td>10.99</td>\n",
       "      <td>0.46</td>\n",
       "      <td>N</td>\n",
       "      <td>28</td>\n",
       "    </tr>\n",
       "    <tr>\n",
       "      <th>32579</th>\n",
       "      <td>56</td>\n",
       "      <td>150000</td>\n",
       "      <td>MORTGAGE</td>\n",
       "      <td>5.0</td>\n",
       "      <td>PERSONAL</td>\n",
       "      <td>B</td>\n",
       "      <td>15000</td>\n",
       "      <td>11.48</td>\n",
       "      <td>0.10</td>\n",
       "      <td>N</td>\n",
       "      <td>26</td>\n",
       "    </tr>\n",
       "    <tr>\n",
       "      <th>32580</th>\n",
       "      <td>66</td>\n",
       "      <td>42000</td>\n",
       "      <td>RENT</td>\n",
       "      <td>2.0</td>\n",
       "      <td>MEDICAL</td>\n",
       "      <td>B</td>\n",
       "      <td>6475</td>\n",
       "      <td>9.99</td>\n",
       "      <td>0.15</td>\n",
       "      <td>N</td>\n",
       "      <td>30</td>\n",
       "    </tr>\n",
       "  </tbody>\n",
       "</table>\n",
       "<p>28634 rows × 11 columns</p>\n",
       "</div>"
      ],
      "text/plain": [
       "       person_age  person_income person_home_ownership  person_emp_length  \\\n",
       "0              22          59000                  RENT              123.0   \n",
       "1              21           9600                   OWN                5.0   \n",
       "2              25           9600              MORTGAGE                1.0   \n",
       "3              23          65500                  RENT                4.0   \n",
       "4              24          54400                  RENT                8.0   \n",
       "...           ...            ...                   ...                ...   \n",
       "32576          57          53000              MORTGAGE                1.0   \n",
       "32577          54         120000              MORTGAGE                4.0   \n",
       "32578          65          76000                  RENT                3.0   \n",
       "32579          56         150000              MORTGAGE                5.0   \n",
       "32580          66          42000                  RENT                2.0   \n",
       "\n",
       "           loan_intent loan_grade  loan_amnt  loan_int_rate  \\\n",
       "0             PERSONAL          D      35000          16.02   \n",
       "1            EDUCATION          B       1000          11.14   \n",
       "2              MEDICAL          C       5500          12.87   \n",
       "3              MEDICAL          C      35000          15.23   \n",
       "4              MEDICAL          C      35000          14.27   \n",
       "...                ...        ...        ...            ...   \n",
       "32576         PERSONAL          C       5800          13.16   \n",
       "32577         PERSONAL          A      17625           7.49   \n",
       "32578  HOMEIMPROVEMENT          B      35000          10.99   \n",
       "32579         PERSONAL          B      15000          11.48   \n",
       "32580          MEDICAL          B       6475           9.99   \n",
       "\n",
       "       loan_percent_income cb_person_default_on_file  \\\n",
       "0                     0.59                         Y   \n",
       "1                     0.10                         N   \n",
       "2                     0.57                         N   \n",
       "3                     0.53                         N   \n",
       "4                     0.55                         Y   \n",
       "...                    ...                       ...   \n",
       "32576                 0.11                         N   \n",
       "32577                 0.15                         N   \n",
       "32578                 0.46                         N   \n",
       "32579                 0.10                         N   \n",
       "32580                 0.15                         N   \n",
       "\n",
       "       cb_person_cred_hist_length  \n",
       "0                               3  \n",
       "1                               2  \n",
       "2                               3  \n",
       "3                               2  \n",
       "4                               4  \n",
       "...                           ...  \n",
       "32576                          30  \n",
       "32577                          19  \n",
       "32578                          28  \n",
       "32579                          26  \n",
       "32580                          30  \n",
       "\n",
       "[28634 rows x 11 columns]"
      ]
     },
     "execution_count": 6,
     "metadata": {},
     "output_type": "execute_result"
    }
   ],
   "source": [
    "X_credit = base_credit.drop(columns=['loan_status'])\n",
    "X_credit"
   ]
  },
  {
   "cell_type": "code",
   "execution_count": 7,
   "id": "b007c0bd",
   "metadata": {},
   "outputs": [
    {
     "data": {
      "text/plain": [
       "Index(['person_age', 'person_income', 'person_home_ownership',\n",
       "       'person_emp_length', 'loan_intent', 'loan_grade', 'loan_amnt',\n",
       "       'loan_int_rate', 'loan_percent_income', 'cb_person_default_on_file',\n",
       "       'cb_person_cred_hist_length'],\n",
       "      dtype='object')"
      ]
     },
     "execution_count": 7,
     "metadata": {},
     "output_type": "execute_result"
    }
   ],
   "source": [
    "X_credit.columns"
   ]
  },
  {
   "cell_type": "code",
   "execution_count": 8,
   "id": "61de81f8",
   "metadata": {},
   "outputs": [],
   "source": [
    "X_credit = X_credit.values"
   ]
  },
  {
   "cell_type": "code",
   "execution_count": 9,
   "id": "c0ecdc3a",
   "metadata": {},
   "outputs": [
    {
     "data": {
      "text/plain": [
       "numpy.ndarray"
      ]
     },
     "execution_count": 9,
     "metadata": {},
     "output_type": "execute_result"
    }
   ],
   "source": [
    "type(X_credit)"
   ]
  },
  {
   "cell_type": "code",
   "execution_count": 10,
   "id": "a10340e8",
   "metadata": {},
   "outputs": [
    {
     "data": {
      "text/plain": [
       "array([[22, 59000, 'RENT', ..., 0.59, 'Y', 3],\n",
       "       [21, 9600, 'OWN', ..., 0.1, 'N', 2],\n",
       "       [25, 9600, 'MORTGAGE', ..., 0.57, 'N', 3],\n",
       "       ...,\n",
       "       [65, 76000, 'RENT', ..., 0.46, 'N', 28],\n",
       "       [56, 150000, 'MORTGAGE', ..., 0.1, 'N', 26],\n",
       "       [66, 42000, 'RENT', ..., 0.15, 'N', 30]], dtype=object)"
      ]
     },
     "execution_count": 10,
     "metadata": {},
     "output_type": "execute_result"
    }
   ],
   "source": [
    "X_credit"
   ]
  },
  {
   "cell_type": "code",
   "execution_count": 11,
   "id": "5ea19db3",
   "metadata": {},
   "outputs": [],
   "source": [
    "y_credit = base_credit.iloc[:, 8].values"
   ]
  },
  {
   "cell_type": "code",
   "execution_count": 12,
   "id": "b3a88413",
   "metadata": {},
   "outputs": [
    {
     "data": {
      "text/plain": [
       "array([1, 0, 1, ..., 1, 0, 0], dtype=int64)"
      ]
     },
     "execution_count": 12,
     "metadata": {},
     "output_type": "execute_result"
    }
   ],
   "source": [
    "y_credit"
   ]
  },
  {
   "cell_type": "markdown",
   "id": "95878a88",
   "metadata": {},
   "source": [
    "## Label Encoder"
   ]
  },
  {
   "cell_type": "code",
   "execution_count": 13,
   "id": "0042193a",
   "metadata": {},
   "outputs": [],
   "source": [
    "from sklearn.preprocessing import LabelEncoder\n",
    "label_encoder_teste = LabelEncoder()"
   ]
  },
  {
   "cell_type": "code",
   "execution_count": 14,
   "id": "8c7bd180",
   "metadata": {},
   "outputs": [
    {
     "data": {
      "text/plain": [
       "array([22, 59000, 'RENT', 123.0, 'PERSONAL', 'D', 35000, 16.02, 0.59, 'Y',\n",
       "       3], dtype=object)"
      ]
     },
     "execution_count": 14,
     "metadata": {},
     "output_type": "execute_result"
    }
   ],
   "source": [
    "X_credit[0]"
   ]
  },
  {
   "cell_type": "code",
   "execution_count": 15,
   "id": "e195ca7b",
   "metadata": {},
   "outputs": [],
   "source": [
    "label_encoder_person_home_ownership = LabelEncoder()\n",
    "label_encoder_loan_intent = LabelEncoder()\n",
    "label_encoder_loan_grade = LabelEncoder()\n",
    "label_encoder_cb_person_default_on_file = LabelEncoder()"
   ]
  },
  {
   "cell_type": "code",
   "execution_count": 16,
   "id": "0d5a6e42",
   "metadata": {},
   "outputs": [],
   "source": [
    "X_credit[:,2] = label_encoder_person_home_ownership.fit_transform(X_credit[:,2])\n",
    "X_credit[:,4] = label_encoder_loan_intent.fit_transform(X_credit[:,2])\n",
    "X_credit[:,5] = label_encoder_loan_grade.fit_transform(X_credit[:,5])\n",
    "X_credit[:,9] = label_encoder_cb_person_default_on_file.fit_transform(X_credit[:,9])"
   ]
  },
  {
   "cell_type": "code",
   "execution_count": 17,
   "id": "84a6742c",
   "metadata": {},
   "outputs": [
    {
     "data": {
      "text/plain": [
       "array([22, 59000, 3, 123.0, 3, 3, 35000, 16.02, 0.59, 1, 3], dtype=object)"
      ]
     },
     "execution_count": 17,
     "metadata": {},
     "output_type": "execute_result"
    }
   ],
   "source": [
    "X_credit[0]"
   ]
  },
  {
   "cell_type": "code",
   "execution_count": 18,
   "id": "20a938db",
   "metadata": {},
   "outputs": [
    {
     "data": {
      "text/plain": [
       "array([[22, 59000, 3, ..., 0.59, 1, 3],\n",
       "       [21, 9600, 2, ..., 0.1, 0, 2],\n",
       "       [25, 9600, 0, ..., 0.57, 0, 3],\n",
       "       ...,\n",
       "       [65, 76000, 3, ..., 0.46, 0, 28],\n",
       "       [56, 150000, 0, ..., 0.1, 0, 26],\n",
       "       [66, 42000, 3, ..., 0.15, 0, 30]], dtype=object)"
      ]
     },
     "execution_count": 18,
     "metadata": {},
     "output_type": "execute_result"
    }
   ],
   "source": [
    "X_credit"
   ]
  },
  {
   "cell_type": "markdown",
   "id": "7a1262df",
   "metadata": {},
   "source": [
    "## OneHot Encoding "
   ]
  },
  {
   "cell_type": "code",
   "execution_count": 20,
   "id": "bc681be4",
   "metadata": {},
   "outputs": [],
   "source": [
    "from sklearn.preprocessing import OneHotEncoder\n",
    "from sklearn.compose import ColumnTransformer"
   ]
  },
  {
   "cell_type": "code",
   "execution_count": 21,
   "id": "271c7478",
   "metadata": {},
   "outputs": [],
   "source": [
    "onehotencoder_credit = ColumnTransformer(transformers=[('OneHot', OneHotEncoder(), [0,2,4,5,9,10])], remainder='passthrough')"
   ]
  },
  {
   "cell_type": "code",
   "execution_count": 22,
   "id": "9953f1a2",
   "metadata": {},
   "outputs": [],
   "source": [
    "X_credit = onehotencoder_credit.fit_transform(X_credit).toarray()"
   ]
  },
  {
   "cell_type": "code",
   "execution_count": 23,
   "id": "380c4863",
   "metadata": {},
   "outputs": [
    {
     "data": {
      "text/plain": [
       "array([[0.000e+00, 0.000e+00, 1.000e+00, ..., 3.500e+04, 1.602e+01,\n",
       "        5.900e-01],\n",
       "       [0.000e+00, 1.000e+00, 0.000e+00, ..., 1.000e+03, 1.114e+01,\n",
       "        1.000e-01],\n",
       "       [0.000e+00, 0.000e+00, 0.000e+00, ..., 5.500e+03, 1.287e+01,\n",
       "        5.700e-01],\n",
       "       ...,\n",
       "       [0.000e+00, 0.000e+00, 0.000e+00, ..., 3.500e+04, 1.099e+01,\n",
       "        4.600e-01],\n",
       "       [0.000e+00, 0.000e+00, 0.000e+00, ..., 1.500e+04, 1.148e+01,\n",
       "        1.000e-01],\n",
       "       [0.000e+00, 0.000e+00, 0.000e+00, ..., 6.475e+03, 9.990e+00,\n",
       "        1.500e-01]])"
      ]
     },
     "execution_count": 23,
     "metadata": {},
     "output_type": "execute_result"
    }
   ],
   "source": [
    "X_credit"
   ]
  },
  {
   "cell_type": "code",
   "execution_count": 24,
   "id": "79da2739",
   "metadata": {},
   "outputs": [
    {
     "data": {
      "text/plain": [
       "(28634, 106)"
      ]
     },
     "execution_count": 24,
     "metadata": {},
     "output_type": "execute_result"
    }
   ],
   "source": [
    "X_credit.shape"
   ]
  },
  {
   "cell_type": "markdown",
   "id": "c7e9cde9",
   "metadata": {},
   "source": [
    "## Scaling of Values"
   ]
  },
  {
   "cell_type": "code",
   "execution_count": 25,
   "id": "35b9d001",
   "metadata": {},
   "outputs": [],
   "source": [
    "from sklearn.preprocessing import StandardScaler\n",
    "scaler_credit = StandardScaler()\n",
    "X_credit = scaler_credit.fit_transform(X_credit)"
   ]
  },
  {
   "cell_type": "code",
   "execution_count": 26,
   "id": "bfdfcd04",
   "metadata": {},
   "outputs": [
    {
     "data": {
      "text/plain": [
       "array([-2.21171520e-02, -1.96162362e-01,  2.83774523e+00, -3.67863749e-01,\n",
       "       -3.50322490e-01, -3.22661485e-01, -2.88560441e-01, -2.65612440e-01,\n",
       "       -2.45205790e-01, -2.34540033e-01, -2.02320406e-01, -1.91016667e-01,\n",
       "       -1.75966506e-01, -1.64899514e-01, -1.49379571e-01, -1.41106176e-01,\n",
       "       -1.30848543e-01, -1.20377322e-01, -1.06477923e-01, -9.75659199e-02,\n",
       "       -9.11616388e-02, -8.75884366e-02, -7.61300063e-02, -7.05964243e-02,\n",
       "       -6.37777894e-02, -5.64639020e-02, -5.48859748e-02, -5.15873123e-02,\n",
       "       -4.76989873e-02, -3.78671017e-02, -3.96740718e-02, -3.39677172e-02,\n",
       "       -3.39677172e-02, -3.01469184e-02, -2.70911818e-02, -2.50802458e-02,\n",
       "       -2.21171520e-02, -2.28938273e-02, -2.43731920e-02, -1.32154487e-02,\n",
       "       -2.13122486e-02, -1.67172432e-02, -1.44770516e-02, -1.02362850e-02,\n",
       "       -1.56372760e-02, -1.32154487e-02, -1.67172432e-02, -5.90971549e-03,\n",
       "       -1.32154487e-02, -1.32154487e-02, -8.35774575e-03, -5.90971549e-03,\n",
       "       -5.90971549e-03, -5.90971549e-03, -5.90971549e-03, -8.37174594e-01,\n",
       "       -5.73900948e-02, -2.87920856e-01,  9.83924679e-01, -8.37174594e-01,\n",
       "       -5.73900948e-02, -2.87920856e-01,  9.83924679e-01, -6.99194331e-01,\n",
       "       -6.85230379e-01, -4.98373340e-01,  2.79569074e+00, -1.77018480e-01,\n",
       "       -8.57477842e-02, -4.54394312e-02, -2.14737260e+00,  2.14737260e+00,\n",
       "       -4.72334894e-01,  2.11516088e+00, -4.72611396e-01, -2.48074067e-01,\n",
       "       -2.46722805e-01, -2.49103582e-01, -2.48470422e-01, -2.48391190e-01,\n",
       "       -2.46084942e-01, -1.20526528e-01, -1.22890596e-01, -1.17049434e-01,\n",
       "       -1.24346651e-01, -1.14415286e-01, -1.17049434e-01, -1.10757028e-01,\n",
       "       -2.28938273e-02, -2.50802458e-02, -3.18403639e-02, -2.50802458e-02,\n",
       "       -2.70911818e-02, -2.57679533e-02, -3.07217340e-02, -2.36450563e-02,\n",
       "       -2.36450563e-02, -2.50802458e-02, -2.77291931e-02, -1.96037325e-02,\n",
       "       -2.57679533e-02, -1.44143837e-01,  2.84532261e+01,  4.00399447e+00,\n",
       "        1.54212935e+00,  3.95259627e+00])"
      ]
     },
     "execution_count": 26,
     "metadata": {},
     "output_type": "execute_result"
    }
   ],
   "source": [
    "X_credit[0]"
   ]
  },
  {
   "cell_type": "markdown",
   "id": "8ebeaa12",
   "metadata": {},
   "source": [
    "## Division into Training and Testing "
   ]
  },
  {
   "cell_type": "code",
   "execution_count": 27,
   "id": "582e3482",
   "metadata": {},
   "outputs": [],
   "source": [
    "from sklearn.model_selection import train_test_split"
   ]
  },
  {
   "cell_type": "code",
   "execution_count": 28,
   "id": "49e96e27",
   "metadata": {},
   "outputs": [],
   "source": [
    "X_credit_train, X_credit_test, y_credit_train, y_credit_test = train_test_split(X_credit, y_credit, test_size = 0.15, random_state = 0)"
   ]
  },
  {
   "cell_type": "code",
   "execution_count": 29,
   "id": "37815deb",
   "metadata": {},
   "outputs": [
    {
     "data": {
      "text/plain": [
       "(24338, 106)"
      ]
     },
     "execution_count": 29,
     "metadata": {},
     "output_type": "execute_result"
    }
   ],
   "source": [
    "X_credit_train.shape"
   ]
  },
  {
   "cell_type": "code",
   "execution_count": 30,
   "id": "849cc26c",
   "metadata": {},
   "outputs": [
    {
     "data": {
      "text/plain": [
       "(24338,)"
      ]
     },
     "execution_count": 30,
     "metadata": {},
     "output_type": "execute_result"
    }
   ],
   "source": [
    "y_credit_train.shape"
   ]
  },
  {
   "cell_type": "code",
   "execution_count": 31,
   "id": "9a0e7a1c",
   "metadata": {},
   "outputs": [
    {
     "data": {
      "text/plain": [
       "((4296, 106), (4296,))"
      ]
     },
     "execution_count": 31,
     "metadata": {},
     "output_type": "execute_result"
    }
   ],
   "source": [
    "X_credit_test.shape, y_credit_test.shape"
   ]
  },
  {
   "cell_type": "markdown",
   "id": "f9ded40e",
   "metadata": {},
   "source": [
    "## Naive Bayes "
   ]
  },
  {
   "cell_type": "code",
   "execution_count": 32,
   "id": "76083ba6",
   "metadata": {},
   "outputs": [
    {
     "data": {
      "text/plain": [
       "array([1, 1, 1, ..., 1, 1, 1], dtype=int64)"
      ]
     },
     "execution_count": 32,
     "metadata": {},
     "output_type": "execute_result"
    }
   ],
   "source": [
    "from sklearn.naive_bayes import GaussianNB\n",
    "naive_credit = GaussianNB()\n",
    "naive_credit.fit(X_credit_train, y_credit_train)\n",
    "predictions = naive_credit.predict(X_credit_test)\n",
    "predictions"
   ]
  },
  {
   "cell_type": "code",
   "execution_count": 33,
   "id": "e92057c7",
   "metadata": {},
   "outputs": [
    {
     "data": {
      "text/plain": [
       "array([1, 0, 0, ..., 1, 0, 0], dtype=int64)"
      ]
     },
     "execution_count": 33,
     "metadata": {},
     "output_type": "execute_result"
    }
   ],
   "source": [
    "y_credit_test"
   ]
  },
  {
   "cell_type": "code",
   "execution_count": 34,
   "id": "37104db4",
   "metadata": {},
   "outputs": [],
   "source": [
    "from sklearn.metrics import accuracy_score, confusion_matrix, classification_report"
   ]
  },
  {
   "cell_type": "code",
   "execution_count": 35,
   "id": "2699c2c0",
   "metadata": {},
   "outputs": [
    {
     "data": {
      "text/plain": [
       "0.22136871508379888"
      ]
     },
     "execution_count": 35,
     "metadata": {},
     "output_type": "execute_result"
    }
   ],
   "source": [
    "accuracy_score(y_credit_test, predictions) "
   ]
  },
  {
   "cell_type": "code",
   "execution_count": 36,
   "id": "7ea2c829",
   "metadata": {},
   "outputs": [
    {
     "data": {
      "text/plain": [
       "array([[  34, 3333],\n",
       "       [  12,  917]], dtype=int64)"
      ]
     },
     "execution_count": 36,
     "metadata": {},
     "output_type": "execute_result"
    }
   ],
   "source": [
    "confusion_matrix(y_credit_test, predictions)"
   ]
  },
  {
   "cell_type": "code",
   "execution_count": 39,
   "id": "13ac06b3",
   "metadata": {},
   "outputs": [],
   "source": [
    "from yellowbrick.classifier import ConfusionMatrix"
   ]
  },
  {
   "cell_type": "code",
   "execution_count": 40,
   "id": "bf95e8e5",
   "metadata": {},
   "outputs": [
    {
     "data": {
      "text/plain": [
       "0.22136871508379888"
      ]
     },
     "execution_count": 40,
     "metadata": {},
     "output_type": "execute_result"
    },
    {
     "data": {
      "image/png": "[encoded data removed]",
      "text/plain": [
       "<Figure size 432x288 with 1 Axes>"
      ]
     },
     "metadata": {
      "needs_background": "light"
     },
     "output_type": "display_data"
    }
   ],
   "source": [
    "cm = ConfusionMatrix(naive_credit)\n",
    "cm.fit(X_credit_train, y_credit_train)\n",
    "cm.score(X_credit_test, y_credit_test)"
   ]
  },
  {
   "cell_type": "code",
   "execution_count": 41,
   "id": "ad47c0eb",
   "metadata": {},
   "outputs": [
    {
     "name": "stdout",
     "output_type": "stream",
     "text": [
      "              precision    recall  f1-score   support\n",
      "\n",
      "           0       0.74      0.01      0.02      3367\n",
      "           1       0.22      0.99      0.35       929\n",
      "\n",
      "    accuracy                           0.22      4296\n",
      "   macro avg       0.48      0.50      0.19      4296\n",
      "weighted avg       0.63      0.22      0.09      4296\n",
      "\n"
     ]
    }
   ],
   "source": [
    "print(classification_report(y_credit_test, predictions))"
   ]
  },
  {
   "cell_type": "markdown",
   "id": "dc6c106e",
   "metadata": {},
   "source": [
    "## Decision Tree"
   ]
  },
  {
   "cell_type": "code",
   "execution_count": 42,
   "id": "238d7d53",
   "metadata": {},
   "outputs": [],
   "source": [
    "from sklearn.tree import DecisionTreeClassifier"
   ]
  },
  {
   "cell_type": "code",
   "execution_count": 43,
   "id": "43e31b48",
   "metadata": {},
   "outputs": [
    {
     "data": {
      "text/html": [
       "<style>#sk-container-id-1 {color: black;background-color: white;}#sk-container-id-1 pre{padding: 0;}#sk-container-id-1 div.sk-toggleable {background-color: white;}#sk-container-id-1 label.sk-toggleable__label {cursor: pointer;display: block;width: 100%;margin-bottom: 0;padding: 0.3em;box-sizing: border-box;text-align: center;}#sk-container-id-1 label.sk-toggleable__label-arrow:before {content: \"▸\";float: left;margin-right: 0.25em;color: #696969;}#sk-container-id-1 label.sk-toggleable__label-arrow:hover:before {color: black;}#sk-container-id-1 div.sk-estimator:hover label.sk-toggleable__label-arrow:before {color: black;}#sk-container-id-1 div.sk-toggleable__content {max-height: 0;max-width: 0;overflow: hidden;text-align: left;background-color: #f0f8ff;}#sk-container-id-1 div.sk-toggleable__content pre {margin: 0.2em;color: black;border-radius: 0.25em;background-color: #f0f8ff;}#sk-container-id-1 input.sk-toggleable__control:checked~div.sk-toggleable__content {max-height: 200px;max-width: 100%;overflow: auto;}#sk-container-id-1 input.sk-toggleable__control:checked~label.sk-toggleable__label-arrow:before {content: \"▾\";}#sk-container-id-1 div.sk-estimator input.sk-toggleable__control:checked~label.sk-toggleable__label {background-color: #d4ebff;}#sk-container-id-1 div.sk-label input.sk-toggleable__control:checked~label.sk-toggleable__label {background-color: #d4ebff;}#sk-container-id-1 input.sk-hidden--visually {border: 0;clip: rect(1px 1px 1px 1px);clip: rect(1px, 1px, 1px, 1px);height: 1px;margin: -1px;overflow: hidden;padding: 0;position: absolute;width: 1px;}#sk-container-id-1 div.sk-estimator {font-family: monospace;background-color: #f0f8ff;border: 1px dotted black;border-radius: 0.25em;box-sizing: border-box;margin-bottom: 0.5em;}#sk-container-id-1 div.sk-estimator:hover {background-color: #d4ebff;}#sk-container-id-1 div.sk-parallel-item::after {content: \"\";width: 100%;border-bottom: 1px solid gray;flex-grow: 1;}#sk-container-id-1 div.sk-label:hover label.sk-toggleable__label {background-color: #d4ebff;}#sk-container-id-1 div.sk-serial::before {content: \"\";position: absolute;border-left: 1px solid gray;box-sizing: border-box;top: 0;bottom: 0;left: 50%;z-index: 0;}#sk-container-id-1 div.sk-serial {display: flex;flex-direction: column;align-items: center;background-color: white;padding-right: 0.2em;padding-left: 0.2em;position: relative;}#sk-container-id-1 div.sk-item {position: relative;z-index: 1;}#sk-container-id-1 div.sk-parallel {display: flex;align-items: stretch;justify-content: center;background-color: white;position: relative;}#sk-container-id-1 div.sk-item::before, #sk-container-id-1 div.sk-parallel-item::before {content: \"\";position: absolute;border-left: 1px solid gray;box-sizing: border-box;top: 0;bottom: 0;left: 50%;z-index: -1;}#sk-container-id-1 div.sk-parallel-item {display: flex;flex-direction: column;z-index: 1;position: relative;background-color: white;}#sk-container-id-1 div.sk-parallel-item:first-child::after {align-self: flex-end;width: 50%;}#sk-container-id-1 div.sk-parallel-item:last-child::after {align-self: flex-start;width: 50%;}#sk-container-id-1 div.sk-parallel-item:only-child::after {width: 0;}#sk-container-id-1 div.sk-dashed-wrapped {border: 1px dashed gray;margin: 0 0.4em 0.5em 0.4em;box-sizing: border-box;padding-bottom: 0.4em;background-color: white;}#sk-container-id-1 div.sk-label label {font-family: monospace;font-weight: bold;display: inline-block;line-height: 1.2em;}#sk-container-id-1 div.sk-label-container {text-align: center;}#sk-container-id-1 div.sk-container {/* jupyter's `normalize.less` sets `[hidden] { display: none; }` but bootstrap.min.css set `[hidden] { display: none !important; }` so we also need the `!important` here to be able to override the default hidden behavior on the sphinx rendered scikit-learn.org. See: https://github.com/scikit-learn/scikit-learn/issues/21755 */display: inline-block !important;position: relative;}#sk-container-id-1 div.sk-text-repr-fallback {display: none;}</style><div id=\"sk-container-id-1\" class=\"sk-top-container\"><div class=\"sk-text-repr-fallback\"><pre>DecisionTreeClassifier(criterion=&#x27;entropy&#x27;)</pre><b>In a Jupyter environment, please rerun this cell to show the HTML representation or trust the notebook. <br />On GitHub, the HTML representation is unable to render, please try loading this page with nbviewer.org.</b></div><div class=\"sk-container\" hidden><div class=\"sk-item\"><div class=\"sk-estimator sk-toggleable\"><input class=\"sk-toggleable__control sk-hidden--visually\" id=\"sk-estimator-id-1\" type=\"checkbox\" checked><label for=\"sk-estimator-id-1\" class=\"sk-toggleable__label sk-toggleable__label-arrow\">DecisionTreeClassifier</label><div class=\"sk-toggleable__content\"><pre>DecisionTreeClassifier(criterion=&#x27;entropy&#x27;)</pre></div></div></div></div></div>"
      ],
      "text/plain": [
       "DecisionTreeClassifier(criterion='entropy')"
      ]
     },
     "execution_count": 43,
     "metadata": {},
     "output_type": "execute_result"
    }
   ],
   "source": [
    "credit_tree = DecisionTreeClassifier(criterion='entropy')\n",
    "credit_tree.fit(X_credit_train, y_credit_train)"
   ]
  },
  {
   "cell_type": "code",
   "execution_count": 44,
   "id": "d5849ba7",
   "metadata": {},
   "outputs": [
    {
     "data": {
      "text/plain": [
       "array([1, 0, 0, ..., 1, 0, 0], dtype=int64)"
      ]
     },
     "execution_count": 44,
     "metadata": {},
     "output_type": "execute_result"
    }
   ],
   "source": [
    "predictions = credit_tree.predict(X_credit_test)\n",
    "predictions"
   ]
  },
  {
   "cell_type": "code",
   "execution_count": 45,
   "id": "3cbf5190",
   "metadata": {},
   "outputs": [
    {
     "data": {
      "text/plain": [
       "0.8703445065176909"
      ]
     },
     "execution_count": 45,
     "metadata": {},
     "output_type": "execute_result"
    }
   ],
   "source": [
    "accuracy_score(y_credit_test, predictions) "
   ]
  },
  {
   "cell_type": "code",
   "execution_count": 46,
   "id": "2c02fd55",
   "metadata": {},
   "outputs": [
    {
     "data": {
      "text/plain": [
       "0.8703445065176909"
      ]
     },
     "execution_count": 46,
     "metadata": {},
     "output_type": "execute_result"
    },
    {
     "data": {
      "image/png": "[encoded data removed]",
      "text/plain": [
       "<Figure size 432x288 with 1 Axes>"
      ]
     },
     "metadata": {
      "needs_background": "light"
     },
     "output_type": "display_data"
    }
   ],
   "source": [
    "cm = ConfusionMatrix(credit_tree)\n",
    "cm.fit(X_credit_train, y_credit_train)\n",
    "cm.score(X_credit_test, y_credit_test)"
   ]
  },
  {
   "cell_type": "code",
   "execution_count": 47,
   "id": "8718b1e9",
   "metadata": {},
   "outputs": [
    {
     "name": "stdout",
     "output_type": "stream",
     "text": [
      "              precision    recall  f1-score   support\n",
      "\n",
      "           0       0.92      0.92      0.92      3367\n",
      "           1       0.70      0.69      0.70       929\n",
      "\n",
      "    accuracy                           0.87      4296\n",
      "   macro avg       0.81      0.81      0.81      4296\n",
      "weighted avg       0.87      0.87      0.87      4296\n",
      "\n"
     ]
    }
   ],
   "source": [
    "print(classification_report(y_credit_test, predictions))"
   ]
  },
  {
   "cell_type": "markdown",
   "id": "bf827108",
   "metadata": {},
   "source": [
    "## XGBoost "
   ]
  },
  {
   "cell_type": "code",
   "execution_count": 48,
   "id": "b73f152c",
   "metadata": {},
   "outputs": [],
   "source": [
    "from xgboost import XGBClassifier"
   ]
  },
  {
   "cell_type": "code",
   "execution_count": 49,
   "id": "a62de7e5",
   "metadata": {},
   "outputs": [
    {
     "data": {
      "text/html": [
       "<style>#sk-container-id-2 {color: black;background-color: white;}#sk-container-id-2 pre{padding: 0;}#sk-container-id-2 div.sk-toggleable {background-color: white;}#sk-container-id-2 label.sk-toggleable__label {cursor: pointer;display: block;width: 100%;margin-bottom: 0;padding: 0.3em;box-sizing: border-box;text-align: center;}#sk-container-id-2 label.sk-toggleable__label-arrow:before {content: \"▸\";float: left;margin-right: 0.25em;color: #696969;}#sk-container-id-2 label.sk-toggleable__label-arrow:hover:before {color: black;}#sk-container-id-2 div.sk-estimator:hover label.sk-toggleable__label-arrow:before {color: black;}#sk-container-id-2 div.sk-toggleable__content {max-height: 0;max-width: 0;overflow: hidden;text-align: left;background-color: #f0f8ff;}#sk-container-id-2 div.sk-toggleable__content pre {margin: 0.2em;color: black;border-radius: 0.25em;background-color: #f0f8ff;}#sk-container-id-2 input.sk-toggleable__control:checked~div.sk-toggleable__content {max-height: 200px;max-width: 100%;overflow: auto;}#sk-container-id-2 input.sk-toggleable__control:checked~label.sk-toggleable__label-arrow:before {content: \"▾\";}#sk-container-id-2 div.sk-estimator input.sk-toggleable__control:checked~label.sk-toggleable__label {background-color: #d4ebff;}#sk-container-id-2 div.sk-label input.sk-toggleable__control:checked~label.sk-toggleable__label {background-color: #d4ebff;}#sk-container-id-2 input.sk-hidden--visually {border: 0;clip: rect(1px 1px 1px 1px);clip: rect(1px, 1px, 1px, 1px);height: 1px;margin: -1px;overflow: hidden;padding: 0;position: absolute;width: 1px;}#sk-container-id-2 div.sk-estimator {font-family: monospace;background-color: #f0f8ff;border: 1px dotted black;border-radius: 0.25em;box-sizing: border-box;margin-bottom: 0.5em;}#sk-container-id-2 div.sk-estimator:hover {background-color: #d4ebff;}#sk-container-id-2 div.sk-parallel-item::after {content: \"\";width: 100%;border-bottom: 1px solid gray;flex-grow: 1;}#sk-container-id-2 div.sk-label:hover label.sk-toggleable__label {background-color: #d4ebff;}#sk-container-id-2 div.sk-serial::before {content: \"\";position: absolute;border-left: 1px solid gray;box-sizing: border-box;top: 0;bottom: 0;left: 50%;z-index: 0;}#sk-container-id-2 div.sk-serial {display: flex;flex-direction: column;align-items: center;background-color: white;padding-right: 0.2em;padding-left: 0.2em;position: relative;}#sk-container-id-2 div.sk-item {position: relative;z-index: 1;}#sk-container-id-2 div.sk-parallel {display: flex;align-items: stretch;justify-content: center;background-color: white;position: relative;}#sk-container-id-2 div.sk-item::before, #sk-container-id-2 div.sk-parallel-item::before {content: \"\";position: absolute;border-left: 1px solid gray;box-sizing: border-box;top: 0;bottom: 0;left: 50%;z-index: -1;}#sk-container-id-2 div.sk-parallel-item {display: flex;flex-direction: column;z-index: 1;position: relative;background-color: white;}#sk-container-id-2 div.sk-parallel-item:first-child::after {align-self: flex-end;width: 50%;}#sk-container-id-2 div.sk-parallel-item:last-child::after {align-self: flex-start;width: 50%;}#sk-container-id-2 div.sk-parallel-item:only-child::after {width: 0;}#sk-container-id-2 div.sk-dashed-wrapped {border: 1px dashed gray;margin: 0 0.4em 0.5em 0.4em;box-sizing: border-box;padding-bottom: 0.4em;background-color: white;}#sk-container-id-2 div.sk-label label {font-family: monospace;font-weight: bold;display: inline-block;line-height: 1.2em;}#sk-container-id-2 div.sk-label-container {text-align: center;}#sk-container-id-2 div.sk-container {/* jupyter's `normalize.less` sets `[hidden] { display: none; }` but bootstrap.min.css set `[hidden] { display: none !important; }` so we also need the `!important` here to be able to override the default hidden behavior on the sphinx rendered scikit-learn.org. See: https://github.com/scikit-learn/scikit-learn/issues/21755 */display: inline-block !important;position: relative;}#sk-container-id-2 div.sk-text-repr-fallback {display: none;}</style><div id=\"sk-container-id-2\" class=\"sk-top-container\"><div class=\"sk-text-repr-fallback\"><pre>XGBClassifier(base_score=None, booster=None, callbacks=None,\n",
       "              colsample_bylevel=None, colsample_bynode=None,\n",
       "              colsample_bytree=None, device=None, early_stopping_rounds=None,\n",
       "              enable_categorical=False, eval_metric=None, feature_types=None,\n",
       "              gamma=None, grow_policy=None, importance_type=None,\n",
       "              interaction_constraints=None, learning_rate=0.05, max_bin=None,\n",
       "              max_cat_threshold=None, max_cat_to_onehot=None,\n",
       "              max_delta_step=None, max_depth=15, max_leaves=None,\n",
       "              min_child_weight=None, missing=nan, monotone_constraints=None,\n",
       "              multi_strategy=None, n_estimators=1000, n_jobs=None,\n",
       "              num_parallel_tree=None, random_state=10, ...)</pre><b>In a Jupyter environment, please rerun this cell to show the HTML representation or trust the notebook. <br />On GitHub, the HTML representation is unable to render, please try loading this page with nbviewer.org.</b></div><div class=\"sk-container\" hidden><div class=\"sk-item\"><div class=\"sk-estimator sk-toggleable\"><input class=\"sk-toggleable__control sk-hidden--visually\" id=\"sk-estimator-id-2\" type=\"checkbox\" checked><label for=\"sk-estimator-id-2\" class=\"sk-toggleable__label sk-toggleable__label-arrow\">XGBClassifier</label><div class=\"sk-toggleable__content\"><pre>XGBClassifier(base_score=None, booster=None, callbacks=None,\n",
       "              colsample_bylevel=None, colsample_bynode=None,\n",
       "              colsample_bytree=None, device=None, early_stopping_rounds=None,\n",
       "              enable_categorical=False, eval_metric=None, feature_types=None,\n",
       "              gamma=None, grow_policy=None, importance_type=None,\n",
       "              interaction_constraints=None, learning_rate=0.05, max_bin=None,\n",
       "              max_cat_threshold=None, max_cat_to_onehot=None,\n",
       "              max_delta_step=None, max_depth=15, max_leaves=None,\n",
       "              min_child_weight=None, missing=nan, monotone_constraints=None,\n",
       "              multi_strategy=None, n_estimators=1000, n_jobs=None,\n",
       "              num_parallel_tree=None, random_state=10, ...)</pre></div></div></div></div></div>"
      ],
      "text/plain": [
       "XGBClassifier(base_score=None, booster=None, callbacks=None,\n",
       "              colsample_bylevel=None, colsample_bynode=None,\n",
       "              colsample_bytree=None, device=None, early_stopping_rounds=None,\n",
       "              enable_categorical=False, eval_metric=None, feature_types=None,\n",
       "              gamma=None, grow_policy=None, importance_type=None,\n",
       "              interaction_constraints=None, learning_rate=0.05, max_bin=None,\n",
       "              max_cat_threshold=None, max_cat_to_onehot=None,\n",
       "              max_delta_step=None, max_depth=15, max_leaves=None,\n",
       "              min_child_weight=None, missing=nan, monotone_constraints=None,\n",
       "              multi_strategy=None, n_estimators=1000, n_jobs=None,\n",
       "              num_parallel_tree=None, random_state=10, ...)"
      ]
     },
     "execution_count": 49,
     "metadata": {},
     "output_type": "execute_result"
    }
   ],
   "source": [
    "xgboost = XGBClassifier(n_estimators=1000, max_depth=15, learning_rate=0.05, objective='binary:logistic', random_state=10)\n",
    "xgboost.fit(X_credit_train, y_credit_train)"
   ]
  },
  {
   "cell_type": "code",
   "execution_count": 50,
   "id": "68aa194c",
   "metadata": {},
   "outputs": [
    {
     "data": {
      "text/plain": [
       "0.9999589119894815"
      ]
     },
     "execution_count": 50,
     "metadata": {},
     "output_type": "execute_result"
    }
   ],
   "source": [
    "xgboost.score(X_credit_train, y_credit_train)"
   ]
  },
  {
   "cell_type": "code",
   "execution_count": 51,
   "id": "54c3590e",
   "metadata": {},
   "outputs": [
    {
     "data": {
      "text/plain": [
       "0.9089851024208566"
      ]
     },
     "execution_count": 51,
     "metadata": {},
     "output_type": "execute_result"
    }
   ],
   "source": [
    "xgboost.score(X_credit_test, y_credit_test)"
   ]
  },
  {
   "cell_type": "code",
   "execution_count": 52,
   "id": "cc0e47cd",
   "metadata": {},
   "outputs": [],
   "source": [
    "predictions_test = xgboost.predict(X_credit_test)"
   ]
  },
  {
   "cell_type": "code",
   "execution_count": 53,
   "id": "d22d8b2d",
   "metadata": {},
   "outputs": [
    {
     "data": {
      "text/plain": [
       "array([1, 0, 0, ..., 1, 0, 0])"
      ]
     },
     "execution_count": 53,
     "metadata": {},
     "output_type": "execute_result"
    }
   ],
   "source": [
    "predictions_test"
   ]
  },
  {
   "cell_type": "code",
   "execution_count": 54,
   "id": "f6e7f9e7",
   "metadata": {},
   "outputs": [
    {
     "data": {
      "text/plain": [
       "array([1, 0, 0, ..., 1, 0, 0], dtype=int64)"
      ]
     },
     "execution_count": 54,
     "metadata": {},
     "output_type": "execute_result"
    }
   ],
   "source": [
    "y_credit_test"
   ]
  },
  {
   "cell_type": "code",
   "execution_count": 55,
   "id": "f029e843",
   "metadata": {},
   "outputs": [
    {
     "data": {
      "text/plain": [
       "0.8703445065176909"
      ]
     },
     "execution_count": 55,
     "metadata": {},
     "output_type": "execute_result"
    }
   ],
   "source": [
    "accuracy_score(y_credit_test, predictions) "
   ]
  },
  {
   "cell_type": "code",
   "execution_count": 56,
   "id": "49b01ea6",
   "metadata": {},
   "outputs": [
    {
     "data": {
      "text/plain": [
       "0.9089851024208566"
      ]
     },
     "execution_count": 56,
     "metadata": {},
     "output_type": "execute_result"
    },
    {
     "data": {
      "image/png": "[encoded data removed]",
      "text/plain": [
       "<Figure size 432x288 with 1 Axes>"
      ]
     },
     "metadata": {
      "needs_background": "light"
     },
     "output_type": "display_data"
    }
   ],
   "source": [
    "cm = ConfusionMatrix(xgboost)\n",
    "cm.fit(X_credit_train, y_credit_train)\n",
    "cm.score(X_credit_test, y_credit_test)"
   ]
  },
  {
   "cell_type": "code",
   "execution_count": 57,
   "id": "604cd248",
   "metadata": {},
   "outputs": [
    {
     "name": "stdout",
     "output_type": "stream",
     "text": [
      "              precision    recall  f1-score   support\n",
      "\n",
      "           0       0.92      0.92      0.92      3367\n",
      "           1       0.70      0.69      0.70       929\n",
      "\n",
      "    accuracy                           0.87      4296\n",
      "   macro avg       0.81      0.81      0.81      4296\n",
      "weighted avg       0.87      0.87      0.87      4296\n",
      "\n"
     ]
    }
   ],
   "source": [
    "print(classification_report(y_credit_test, predictions))"
   ]
  },
  {
   "cell_type": "markdown",
   "id": "36527f9a",
   "metadata": {},
   "source": [
    "## CATBoost"
   ]
  },
  {
   "cell_type": "code",
   "execution_count": 58,
   "id": "7270958a",
   "metadata": {},
   "outputs": [],
   "source": [
    "from catboost import CatBoostClassifier"
   ]
  },
  {
   "cell_type": "code",
   "execution_count": 60,
   "id": "2b0f32b7",
   "metadata": {},
   "outputs": [],
   "source": [
    "df_cat = pd.read_csv('credit_risk_dataset.csv')"
   ]
  },
  {
   "cell_type": "code",
   "execution_count": 61,
   "id": "1116d0df",
   "metadata": {},
   "outputs": [
    {
     "data": {
      "text/html": [
       "<div>\n",
       "<style scoped>\n",
       "    .dataframe tbody tr th:only-of-type {\n",
       "        vertical-align: middle;\n",
       "    }\n",
       "\n",
       "    .dataframe tbody tr th {\n",
       "        vertical-align: top;\n",
       "    }\n",
       "\n",
       "    .dataframe thead th {\n",
       "        text-align: right;\n",
       "    }\n",
       "</style>\n",
       "<table border=\"1\" class=\"dataframe\">\n",
       "  <thead>\n",
       "    <tr style=\"text-align: right;\">\n",
       "      <th></th>\n",
       "      <th>person_age</th>\n",
       "      <th>person_income</th>\n",
       "      <th>person_home_ownership</th>\n",
       "      <th>person_emp_length</th>\n",
       "      <th>loan_intent</th>\n",
       "      <th>loan_grade</th>\n",
       "      <th>loan_amnt</th>\n",
       "      <th>loan_int_rate</th>\n",
       "      <th>loan_status</th>\n",
       "      <th>loan_percent_income</th>\n",
       "      <th>cb_person_default_on_file</th>\n",
       "      <th>cb_person_cred_hist_length</th>\n",
       "    </tr>\n",
       "  </thead>\n",
       "  <tbody>\n",
       "    <tr>\n",
       "      <th>0</th>\n",
       "      <td>22</td>\n",
       "      <td>59000</td>\n",
       "      <td>RENT</td>\n",
       "      <td>123.0</td>\n",
       "      <td>PERSONAL</td>\n",
       "      <td>D</td>\n",
       "      <td>35000</td>\n",
       "      <td>16.02</td>\n",
       "      <td>1</td>\n",
       "      <td>0.59</td>\n",
       "      <td>Y</td>\n",
       "      <td>3</td>\n",
       "    </tr>\n",
       "    <tr>\n",
       "      <th>1</th>\n",
       "      <td>21</td>\n",
       "      <td>9600</td>\n",
       "      <td>OWN</td>\n",
       "      <td>5.0</td>\n",
       "      <td>EDUCATION</td>\n",
       "      <td>B</td>\n",
       "      <td>1000</td>\n",
       "      <td>11.14</td>\n",
       "      <td>0</td>\n",
       "      <td>0.10</td>\n",
       "      <td>N</td>\n",
       "      <td>2</td>\n",
       "    </tr>\n",
       "    <tr>\n",
       "      <th>2</th>\n",
       "      <td>25</td>\n",
       "      <td>9600</td>\n",
       "      <td>MORTGAGE</td>\n",
       "      <td>1.0</td>\n",
       "      <td>MEDICAL</td>\n",
       "      <td>C</td>\n",
       "      <td>5500</td>\n",
       "      <td>12.87</td>\n",
       "      <td>1</td>\n",
       "      <td>0.57</td>\n",
       "      <td>N</td>\n",
       "      <td>3</td>\n",
       "    </tr>\n",
       "    <tr>\n",
       "      <th>3</th>\n",
       "      <td>23</td>\n",
       "      <td>65500</td>\n",
       "      <td>RENT</td>\n",
       "      <td>4.0</td>\n",
       "      <td>MEDICAL</td>\n",
       "      <td>C</td>\n",
       "      <td>35000</td>\n",
       "      <td>15.23</td>\n",
       "      <td>1</td>\n",
       "      <td>0.53</td>\n",
       "      <td>N</td>\n",
       "      <td>2</td>\n",
       "    </tr>\n",
       "    <tr>\n",
       "      <th>4</th>\n",
       "      <td>24</td>\n",
       "      <td>54400</td>\n",
       "      <td>RENT</td>\n",
       "      <td>8.0</td>\n",
       "      <td>MEDICAL</td>\n",
       "      <td>C</td>\n",
       "      <td>35000</td>\n",
       "      <td>14.27</td>\n",
       "      <td>1</td>\n",
       "      <td>0.55</td>\n",
       "      <td>Y</td>\n",
       "      <td>4</td>\n",
       "    </tr>\n",
       "    <tr>\n",
       "      <th>...</th>\n",
       "      <td>...</td>\n",
       "      <td>...</td>\n",
       "      <td>...</td>\n",
       "      <td>...</td>\n",
       "      <td>...</td>\n",
       "      <td>...</td>\n",
       "      <td>...</td>\n",
       "      <td>...</td>\n",
       "      <td>...</td>\n",
       "      <td>...</td>\n",
       "      <td>...</td>\n",
       "      <td>...</td>\n",
       "    </tr>\n",
       "    <tr>\n",
       "      <th>32576</th>\n",
       "      <td>57</td>\n",
       "      <td>53000</td>\n",
       "      <td>MORTGAGE</td>\n",
       "      <td>1.0</td>\n",
       "      <td>PERSONAL</td>\n",
       "      <td>C</td>\n",
       "      <td>5800</td>\n",
       "      <td>13.16</td>\n",
       "      <td>0</td>\n",
       "      <td>0.11</td>\n",
       "      <td>N</td>\n",
       "      <td>30</td>\n",
       "    </tr>\n",
       "    <tr>\n",
       "      <th>32577</th>\n",
       "      <td>54</td>\n",
       "      <td>120000</td>\n",
       "      <td>MORTGAGE</td>\n",
       "      <td>4.0</td>\n",
       "      <td>PERSONAL</td>\n",
       "      <td>A</td>\n",
       "      <td>17625</td>\n",
       "      <td>7.49</td>\n",
       "      <td>0</td>\n",
       "      <td>0.15</td>\n",
       "      <td>N</td>\n",
       "      <td>19</td>\n",
       "    </tr>\n",
       "    <tr>\n",
       "      <th>32578</th>\n",
       "      <td>65</td>\n",
       "      <td>76000</td>\n",
       "      <td>RENT</td>\n",
       "      <td>3.0</td>\n",
       "      <td>HOMEIMPROVEMENT</td>\n",
       "      <td>B</td>\n",
       "      <td>35000</td>\n",
       "      <td>10.99</td>\n",
       "      <td>1</td>\n",
       "      <td>0.46</td>\n",
       "      <td>N</td>\n",
       "      <td>28</td>\n",
       "    </tr>\n",
       "    <tr>\n",
       "      <th>32579</th>\n",
       "      <td>56</td>\n",
       "      <td>150000</td>\n",
       "      <td>MORTGAGE</td>\n",
       "      <td>5.0</td>\n",
       "      <td>PERSONAL</td>\n",
       "      <td>B</td>\n",
       "      <td>15000</td>\n",
       "      <td>11.48</td>\n",
       "      <td>0</td>\n",
       "      <td>0.10</td>\n",
       "      <td>N</td>\n",
       "      <td>26</td>\n",
       "    </tr>\n",
       "    <tr>\n",
       "      <th>32580</th>\n",
       "      <td>66</td>\n",
       "      <td>42000</td>\n",
       "      <td>RENT</td>\n",
       "      <td>2.0</td>\n",
       "      <td>MEDICAL</td>\n",
       "      <td>B</td>\n",
       "      <td>6475</td>\n",
       "      <td>9.99</td>\n",
       "      <td>0</td>\n",
       "      <td>0.15</td>\n",
       "      <td>N</td>\n",
       "      <td>30</td>\n",
       "    </tr>\n",
       "  </tbody>\n",
       "</table>\n",
       "<p>32581 rows × 12 columns</p>\n",
       "</div>"
      ],
      "text/plain": [
       "       person_age  person_income person_home_ownership  person_emp_length  \\\n",
       "0              22          59000                  RENT              123.0   \n",
       "1              21           9600                   OWN                5.0   \n",
       "2              25           9600              MORTGAGE                1.0   \n",
       "3              23          65500                  RENT                4.0   \n",
       "4              24          54400                  RENT                8.0   \n",
       "...           ...            ...                   ...                ...   \n",
       "32576          57          53000              MORTGAGE                1.0   \n",
       "32577          54         120000              MORTGAGE                4.0   \n",
       "32578          65          76000                  RENT                3.0   \n",
       "32579          56         150000              MORTGAGE                5.0   \n",
       "32580          66          42000                  RENT                2.0   \n",
       "\n",
       "           loan_intent loan_grade  loan_amnt  loan_int_rate  loan_status  \\\n",
       "0             PERSONAL          D      35000          16.02            1   \n",
       "1            EDUCATION          B       1000          11.14            0   \n",
       "2              MEDICAL          C       5500          12.87            1   \n",
       "3              MEDICAL          C      35000          15.23            1   \n",
       "4              MEDICAL          C      35000          14.27            1   \n",
       "...                ...        ...        ...            ...          ...   \n",
       "32576         PERSONAL          C       5800          13.16            0   \n",
       "32577         PERSONAL          A      17625           7.49            0   \n",
       "32578  HOMEIMPROVEMENT          B      35000          10.99            1   \n",
       "32579         PERSONAL          B      15000          11.48            0   \n",
       "32580          MEDICAL          B       6475           9.99            0   \n",
       "\n",
       "       loan_percent_income cb_person_default_on_file  \\\n",
       "0                     0.59                         Y   \n",
       "1                     0.10                         N   \n",
       "2                     0.57                         N   \n",
       "3                     0.53                         N   \n",
       "4                     0.55                         Y   \n",
       "...                    ...                       ...   \n",
       "32576                 0.11                         N   \n",
       "32577                 0.15                         N   \n",
       "32578                 0.46                         N   \n",
       "32579                 0.10                         N   \n",
       "32580                 0.15                         N   \n",
       "\n",
       "       cb_person_cred_hist_length  \n",
       "0                               3  \n",
       "1                               2  \n",
       "2                               3  \n",
       "3                               2  \n",
       "4                               4  \n",
       "...                           ...  \n",
       "32576                          30  \n",
       "32577                          19  \n",
       "32578                          28  \n",
       "32579                          26  \n",
       "32580                          30  \n",
       "\n",
       "[32581 rows x 12 columns]"
      ]
     },
     "execution_count": 61,
     "metadata": {},
     "output_type": "execute_result"
    }
   ],
   "source": [
    "df_cat"
   ]
  },
  {
   "cell_type": "code",
   "execution_count": 62,
   "id": "5ffbe14b",
   "metadata": {},
   "outputs": [
    {
     "data": {
      "text/plain": [
       "0        1\n",
       "1        0\n",
       "2        1\n",
       "3        1\n",
       "4        1\n",
       "        ..\n",
       "32576    0\n",
       "32577    0\n",
       "32578    1\n",
       "32579    0\n",
       "32580    0\n",
       "Name: loan_status, Length: 32581, dtype: int64"
      ]
     },
     "execution_count": 62,
     "metadata": {},
     "output_type": "execute_result"
    }
   ],
   "source": [
    "result = df_cat.iloc[:, 8]\n",
    "result"
   ]
  },
  {
   "cell_type": "code",
   "execution_count": 63,
   "id": "65e24468",
   "metadata": {},
   "outputs": [
    {
     "data": {
      "text/html": [
       "<div>\n",
       "<style scoped>\n",
       "    .dataframe tbody tr th:only-of-type {\n",
       "        vertical-align: middle;\n",
       "    }\n",
       "\n",
       "    .dataframe tbody tr th {\n",
       "        vertical-align: top;\n",
       "    }\n",
       "\n",
       "    .dataframe thead th {\n",
       "        text-align: right;\n",
       "    }\n",
       "</style>\n",
       "<table border=\"1\" class=\"dataframe\">\n",
       "  <thead>\n",
       "    <tr style=\"text-align: right;\">\n",
       "      <th></th>\n",
       "      <th>person_age</th>\n",
       "      <th>person_income</th>\n",
       "      <th>person_home_ownership</th>\n",
       "      <th>person_emp_length</th>\n",
       "      <th>loan_intent</th>\n",
       "      <th>loan_grade</th>\n",
       "      <th>loan_amnt</th>\n",
       "      <th>loan_int_rate</th>\n",
       "      <th>loan_percent_income</th>\n",
       "      <th>cb_person_default_on_file</th>\n",
       "      <th>cb_person_cred_hist_length</th>\n",
       "    </tr>\n",
       "  </thead>\n",
       "  <tbody>\n",
       "    <tr>\n",
       "      <th>0</th>\n",
       "      <td>22</td>\n",
       "      <td>59000</td>\n",
       "      <td>RENT</td>\n",
       "      <td>123.0</td>\n",
       "      <td>PERSONAL</td>\n",
       "      <td>D</td>\n",
       "      <td>35000</td>\n",
       "      <td>16.02</td>\n",
       "      <td>0.59</td>\n",
       "      <td>Y</td>\n",
       "      <td>3</td>\n",
       "    </tr>\n",
       "    <tr>\n",
       "      <th>1</th>\n",
       "      <td>21</td>\n",
       "      <td>9600</td>\n",
       "      <td>OWN</td>\n",
       "      <td>5.0</td>\n",
       "      <td>EDUCATION</td>\n",
       "      <td>B</td>\n",
       "      <td>1000</td>\n",
       "      <td>11.14</td>\n",
       "      <td>0.10</td>\n",
       "      <td>N</td>\n",
       "      <td>2</td>\n",
       "    </tr>\n",
       "    <tr>\n",
       "      <th>2</th>\n",
       "      <td>25</td>\n",
       "      <td>9600</td>\n",
       "      <td>MORTGAGE</td>\n",
       "      <td>1.0</td>\n",
       "      <td>MEDICAL</td>\n",
       "      <td>C</td>\n",
       "      <td>5500</td>\n",
       "      <td>12.87</td>\n",
       "      <td>0.57</td>\n",
       "      <td>N</td>\n",
       "      <td>3</td>\n",
       "    </tr>\n",
       "    <tr>\n",
       "      <th>3</th>\n",
       "      <td>23</td>\n",
       "      <td>65500</td>\n",
       "      <td>RENT</td>\n",
       "      <td>4.0</td>\n",
       "      <td>MEDICAL</td>\n",
       "      <td>C</td>\n",
       "      <td>35000</td>\n",
       "      <td>15.23</td>\n",
       "      <td>0.53</td>\n",
       "      <td>N</td>\n",
       "      <td>2</td>\n",
       "    </tr>\n",
       "    <tr>\n",
       "      <th>4</th>\n",
       "      <td>24</td>\n",
       "      <td>54400</td>\n",
       "      <td>RENT</td>\n",
       "      <td>8.0</td>\n",
       "      <td>MEDICAL</td>\n",
       "      <td>C</td>\n",
       "      <td>35000</td>\n",
       "      <td>14.27</td>\n",
       "      <td>0.55</td>\n",
       "      <td>Y</td>\n",
       "      <td>4</td>\n",
       "    </tr>\n",
       "    <tr>\n",
       "      <th>...</th>\n",
       "      <td>...</td>\n",
       "      <td>...</td>\n",
       "      <td>...</td>\n",
       "      <td>...</td>\n",
       "      <td>...</td>\n",
       "      <td>...</td>\n",
       "      <td>...</td>\n",
       "      <td>...</td>\n",
       "      <td>...</td>\n",
       "      <td>...</td>\n",
       "      <td>...</td>\n",
       "    </tr>\n",
       "    <tr>\n",
       "      <th>32576</th>\n",
       "      <td>57</td>\n",
       "      <td>53000</td>\n",
       "      <td>MORTGAGE</td>\n",
       "      <td>1.0</td>\n",
       "      <td>PERSONAL</td>\n",
       "      <td>C</td>\n",
       "      <td>5800</td>\n",
       "      <td>13.16</td>\n",
       "      <td>0.11</td>\n",
       "      <td>N</td>\n",
       "      <td>30</td>\n",
       "    </tr>\n",
       "    <tr>\n",
       "      <th>32577</th>\n",
       "      <td>54</td>\n",
       "      <td>120000</td>\n",
       "      <td>MORTGAGE</td>\n",
       "      <td>4.0</td>\n",
       "      <td>PERSONAL</td>\n",
       "      <td>A</td>\n",
       "      <td>17625</td>\n",
       "      <td>7.49</td>\n",
       "      <td>0.15</td>\n",
       "      <td>N</td>\n",
       "      <td>19</td>\n",
       "    </tr>\n",
       "    <tr>\n",
       "      <th>32578</th>\n",
       "      <td>65</td>\n",
       "      <td>76000</td>\n",
       "      <td>RENT</td>\n",
       "      <td>3.0</td>\n",
       "      <td>HOMEIMPROVEMENT</td>\n",
       "      <td>B</td>\n",
       "      <td>35000</td>\n",
       "      <td>10.99</td>\n",
       "      <td>0.46</td>\n",
       "      <td>N</td>\n",
       "      <td>28</td>\n",
       "    </tr>\n",
       "    <tr>\n",
       "      <th>32579</th>\n",
       "      <td>56</td>\n",
       "      <td>150000</td>\n",
       "      <td>MORTGAGE</td>\n",
       "      <td>5.0</td>\n",
       "      <td>PERSONAL</td>\n",
       "      <td>B</td>\n",
       "      <td>15000</td>\n",
       "      <td>11.48</td>\n",
       "      <td>0.10</td>\n",
       "      <td>N</td>\n",
       "      <td>26</td>\n",
       "    </tr>\n",
       "    <tr>\n",
       "      <th>32580</th>\n",
       "      <td>66</td>\n",
       "      <td>42000</td>\n",
       "      <td>RENT</td>\n",
       "      <td>2.0</td>\n",
       "      <td>MEDICAL</td>\n",
       "      <td>B</td>\n",
       "      <td>6475</td>\n",
       "      <td>9.99</td>\n",
       "      <td>0.15</td>\n",
       "      <td>N</td>\n",
       "      <td>30</td>\n",
       "    </tr>\n",
       "  </tbody>\n",
       "</table>\n",
       "<p>32581 rows × 11 columns</p>\n",
       "</div>"
      ],
      "text/plain": [
       "       person_age  person_income person_home_ownership  person_emp_length  \\\n",
       "0              22          59000                  RENT              123.0   \n",
       "1              21           9600                   OWN                5.0   \n",
       "2              25           9600              MORTGAGE                1.0   \n",
       "3              23          65500                  RENT                4.0   \n",
       "4              24          54400                  RENT                8.0   \n",
       "...           ...            ...                   ...                ...   \n",
       "32576          57          53000              MORTGAGE                1.0   \n",
       "32577          54         120000              MORTGAGE                4.0   \n",
       "32578          65          76000                  RENT                3.0   \n",
       "32579          56         150000              MORTGAGE                5.0   \n",
       "32580          66          42000                  RENT                2.0   \n",
       "\n",
       "           loan_intent loan_grade  loan_amnt  loan_int_rate  \\\n",
       "0             PERSONAL          D      35000          16.02   \n",
       "1            EDUCATION          B       1000          11.14   \n",
       "2              MEDICAL          C       5500          12.87   \n",
       "3              MEDICAL          C      35000          15.23   \n",
       "4              MEDICAL          C      35000          14.27   \n",
       "...                ...        ...        ...            ...   \n",
       "32576         PERSONAL          C       5800          13.16   \n",
       "32577         PERSONAL          A      17625           7.49   \n",
       "32578  HOMEIMPROVEMENT          B      35000          10.99   \n",
       "32579         PERSONAL          B      15000          11.48   \n",
       "32580          MEDICAL          B       6475           9.99   \n",
       "\n",
       "       loan_percent_income cb_person_default_on_file  \\\n",
       "0                     0.59                         Y   \n",
       "1                     0.10                         N   \n",
       "2                     0.57                         N   \n",
       "3                     0.53                         N   \n",
       "4                     0.55                         Y   \n",
       "...                    ...                       ...   \n",
       "32576                 0.11                         N   \n",
       "32577                 0.15                         N   \n",
       "32578                 0.46                         N   \n",
       "32579                 0.10                         N   \n",
       "32580                 0.15                         N   \n",
       "\n",
       "       cb_person_cred_hist_length  \n",
       "0                               3  \n",
       "1                               2  \n",
       "2                               3  \n",
       "3                               2  \n",
       "4                               4  \n",
       "...                           ...  \n",
       "32576                          30  \n",
       "32577                          19  \n",
       "32578                          28  \n",
       "32579                          26  \n",
       "32580                          30  \n",
       "\n",
       "[32581 rows x 11 columns]"
      ]
     },
     "execution_count": 63,
     "metadata": {},
     "output_type": "execute_result"
    }
   ],
   "source": [
    "predictions_cat =  df_cat.drop(columns=['loan_status'])\n",
    "predictions_cat"
   ]
  },
  {
   "cell_type": "code",
   "execution_count": 64,
   "id": "ef2bcf50",
   "metadata": {},
   "outputs": [],
   "source": [
    "x_train, x_test, y_train, y_test = train_test_split(predictions_cat, result, test_size = 0.3, random_state = 0)"
   ]
  },
  {
   "cell_type": "code",
   "execution_count": 65,
   "id": "481bb410",
   "metadata": {},
   "outputs": [],
   "source": [
    "categorics = ['person_home_ownership', 'loan_intent', 'loan_grade', 'cb_person_default_on_file']"
   ]
  },
  {
   "cell_type": "code",
   "execution_count": 66,
   "id": "413929b8",
   "metadata": {},
   "outputs": [],
   "source": [
    "catboost = CatBoostClassifier(task_type='CPU', iterations=140, learning_rate=0.1, depth = 5, random_state = 5, \n",
    "                              eval_metric=\"Accuracy\")"
   ]
  },
  {
   "cell_type": "code",
   "execution_count": 67,
   "id": "aaa96e14",
   "metadata": {},
   "outputs": [
    {
     "data": {
      "application/vnd.jupyter.widget-view+json": {
       "model_id": "dee354665dd2447aba381ac1c52aba48",
       "version_major": 2,
       "version_minor": 0
      },
      "text/plain": [
       "MetricVisualizer(layout=Layout(align_self='stretch', height='500px'))"
      ]
     },
     "metadata": {},
     "output_type": "display_data"
    },
    {
     "name": "stdout",
     "output_type": "stream",
     "text": [
      "0:\tlearn: 0.8340788\ttest: 0.8395908\tbest: 0.8395908 (0)\ttotal: 172ms\tremaining: 23.9s\n",
      "1:\tlearn: 0.8365781\ttest: 0.8424552\tbest: 0.8424552 (1)\ttotal: 193ms\tremaining: 13.3s\n",
      "2:\tlearn: 0.8506533\ttest: 0.8557545\tbest: 0.8557545 (2)\ttotal: 217ms\tremaining: 9.91s\n",
      "3:\tlearn: 0.8526703\ttest: 0.8572890\tbest: 0.8572890 (3)\ttotal: 239ms\tremaining: 8.14s\n",
      "4:\tlearn: 0.8538542\ttest: 0.8579028\tbest: 0.8579028 (4)\ttotal: 264ms\tremaining: 7.13s\n",
      "5:\tlearn: 0.8509164\ttest: 0.8559591\tbest: 0.8579028 (4)\ttotal: 294ms\tremaining: 6.56s\n",
      "6:\tlearn: 0.8505656\ttest: 0.8553453\tbest: 0.8579028 (4)\ttotal: 328ms\tremaining: 6.24s\n",
      "7:\tlearn: 0.8507849\ttest: 0.8554476\tbest: 0.8579028 (4)\ttotal: 364ms\tremaining: 6.01s\n",
      "8:\tlearn: 0.8549066\ttest: 0.8582097\tbest: 0.8582097 (8)\ttotal: 396ms\tremaining: 5.76s\n",
      "9:\tlearn: 0.8620538\ttest: 0.8656777\tbest: 0.8656777 (9)\ttotal: 422ms\tremaining: 5.49s\n",
      "10:\tlearn: 0.8746821\ttest: 0.8785678\tbest: 0.8785678 (10)\ttotal: 447ms\tremaining: 5.24s\n",
      "11:\tlearn: 0.8786723\ttest: 0.8839898\tbest: 0.8839898 (11)\ttotal: 473ms\tremaining: 5.04s\n",
      "12:\tlearn: 0.8852495\ttest: 0.8916624\tbest: 0.8916624 (12)\ttotal: 506ms\tremaining: 4.95s\n",
      "13:\tlearn: 0.8873104\ttest: 0.8939130\tbest: 0.8939130 (13)\ttotal: 533ms\tremaining: 4.79s\n",
      "14:\tlearn: 0.8870473\ttest: 0.8949361\tbest: 0.8949361 (14)\ttotal: 554ms\tremaining: 4.61s\n",
      "15:\tlearn: 0.8877927\ttest: 0.8939130\tbest: 0.8949361 (14)\ttotal: 580ms\tremaining: 4.5s\n",
      "16:\tlearn: 0.8884066\ttest: 0.8956522\tbest: 0.8956522 (16)\ttotal: 603ms\tremaining: 4.36s\n",
      "17:\tlearn: 0.8895905\ttest: 0.8974936\tbest: 0.8974936 (17)\ttotal: 625ms\tremaining: 4.23s\n",
      "18:\tlearn: 0.8914759\ttest: 0.8996419\tbest: 0.8996419 (18)\ttotal: 646ms\tremaining: 4.11s\n",
      "19:\tlearn: 0.8922652\ttest: 0.9010742\tbest: 0.9010742 (19)\ttotal: 667ms\tremaining: 4s\n",
      "20:\tlearn: 0.8921336\ttest: 0.9003581\tbest: 0.9010742 (19)\ttotal: 689ms\tremaining: 3.91s\n",
      "21:\tlearn: 0.8972639\ttest: 0.9071100\tbest: 0.9071100 (21)\ttotal: 715ms\tremaining: 3.83s\n",
      "22:\tlearn: 0.9056389\ttest: 0.9157033\tbest: 0.9157033 (22)\ttotal: 739ms\tremaining: 3.76s\n",
      "23:\tlearn: 0.9084451\ttest: 0.9188747\tbest: 0.9188747 (23)\ttotal: 769ms\tremaining: 3.71s\n",
      "24:\tlearn: 0.9116461\ttest: 0.9217391\tbest: 0.9217391 (24)\ttotal: 797ms\tremaining: 3.67s\n",
      "25:\tlearn: 0.9127423\ttest: 0.9232737\tbest: 0.9232737 (25)\ttotal: 822ms\tremaining: 3.6s\n",
      "26:\tlearn: 0.9136631\ttest: 0.9242967\tbest: 0.9242967 (26)\ttotal: 843ms\tremaining: 3.53s\n",
      "27:\tlearn: 0.9148470\ttest: 0.9246036\tbest: 0.9246036 (27)\ttotal: 862ms\tremaining: 3.45s\n",
      "28:\tlearn: 0.9152855\ttest: 0.9242967\tbest: 0.9246036 (27)\ttotal: 882ms\tremaining: 3.38s\n",
      "29:\tlearn: 0.9159870\ttest: 0.9246036\tbest: 0.9246036 (27)\ttotal: 904ms\tremaining: 3.32s\n",
      "30:\tlearn: 0.9166886\ttest: 0.9248082\tbest: 0.9248082 (30)\ttotal: 936ms\tremaining: 3.29s\n",
      "31:\tlearn: 0.9172148\ttest: 0.9252174\tbest: 0.9252174 (31)\ttotal: 962ms\tremaining: 3.25s\n",
      "32:\tlearn: 0.9177409\ttest: 0.9248082\tbest: 0.9252174 (31)\ttotal: 1.01s\tremaining: 3.28s\n",
      "33:\tlearn: 0.9180040\ttest: 0.9254220\tbest: 0.9254220 (33)\ttotal: 1.03s\tremaining: 3.23s\n",
      "34:\tlearn: 0.9183110\ttest: 0.9247059\tbest: 0.9254220 (33)\ttotal: 1.07s\tremaining: 3.2s\n",
      "35:\tlearn: 0.9187056\ttest: 0.9243990\tbest: 0.9254220 (33)\ttotal: 1.09s\tremaining: 3.17s\n",
      "36:\tlearn: 0.9189248\ttest: 0.9248082\tbest: 0.9254220 (33)\ttotal: 1.13s\tremaining: 3.13s\n",
      "37:\tlearn: 0.9189248\ttest: 0.9252174\tbest: 0.9254220 (33)\ttotal: 1.16s\tremaining: 3.13s\n",
      "38:\tlearn: 0.9191879\ttest: 0.9247059\tbest: 0.9254220 (33)\ttotal: 1.2s\tremaining: 3.11s\n",
      "39:\tlearn: 0.9194510\ttest: 0.9239898\tbest: 0.9254220 (33)\ttotal: 1.23s\tremaining: 3.06s\n",
      "40:\tlearn: 0.9194072\ttest: 0.9240921\tbest: 0.9254220 (33)\ttotal: 1.26s\tremaining: 3.04s\n",
      "41:\tlearn: 0.9194949\ttest: 0.9241944\tbest: 0.9254220 (33)\ttotal: 1.29s\tremaining: 3.01s\n",
      "42:\tlearn: 0.9196703\ttest: 0.9242967\tbest: 0.9254220 (33)\ttotal: 1.32s\tremaining: 2.97s\n",
      "43:\tlearn: 0.9198895\ttest: 0.9250128\tbest: 0.9254220 (33)\ttotal: 1.36s\tremaining: 2.96s\n",
      "44:\tlearn: 0.9201526\ttest: 0.9251151\tbest: 0.9254220 (33)\ttotal: 1.4s\tremaining: 2.95s\n",
      "45:\tlearn: 0.9204595\ttest: 0.9249105\tbest: 0.9254220 (33)\ttotal: 1.43s\tremaining: 2.93s\n",
      "46:\tlearn: 0.9209857\ttest: 0.9259335\tbest: 0.9259335 (46)\ttotal: 1.48s\tremaining: 2.92s\n",
      "47:\tlearn: 0.9212049\ttest: 0.9254220\tbest: 0.9259335 (46)\ttotal: 1.51s\tremaining: 2.9s\n",
      "48:\tlearn: 0.9221258\ttest: 0.9260358\tbest: 0.9260358 (48)\ttotal: 1.57s\tremaining: 2.92s\n",
      "49:\tlearn: 0.9220819\ttest: 0.9260358\tbest: 0.9260358 (48)\ttotal: 1.6s\tremaining: 2.89s\n",
      "50:\tlearn: 0.9219942\ttest: 0.9257289\tbest: 0.9260358 (48)\ttotal: 1.64s\tremaining: 2.86s\n",
      "51:\tlearn: 0.9228712\ttest: 0.9248082\tbest: 0.9260358 (48)\ttotal: 1.67s\tremaining: 2.82s\n",
      "52:\tlearn: 0.9228712\ttest: 0.9258312\tbest: 0.9260358 (48)\ttotal: 1.69s\tremaining: 2.77s\n",
      "53:\tlearn: 0.9226519\ttest: 0.9257289\tbest: 0.9260358 (48)\ttotal: 1.72s\tremaining: 2.74s\n",
      "54:\tlearn: 0.9226081\ttest: 0.9260358\tbest: 0.9260358 (48)\ttotal: 1.75s\tremaining: 2.7s\n",
      "55:\tlearn: 0.9232220\ttest: 0.9256266\tbest: 0.9260358 (48)\ttotal: 1.78s\tremaining: 2.67s\n",
      "56:\tlearn: 0.9235727\ttest: 0.9264450\tbest: 0.9264450 (56)\ttotal: 1.81s\tremaining: 2.64s\n",
      "57:\tlearn: 0.9238797\ttest: 0.9271611\tbest: 0.9271611 (57)\ttotal: 1.84s\tremaining: 2.61s\n",
      "58:\tlearn: 0.9241866\ttest: 0.9262404\tbest: 0.9271611 (57)\ttotal: 1.88s\tremaining: 2.57s\n",
      "59:\tlearn: 0.9250197\ttest: 0.9264450\tbest: 0.9271611 (57)\ttotal: 1.91s\tremaining: 2.54s\n",
      "60:\tlearn: 0.9253267\ttest: 0.9264450\tbest: 0.9271611 (57)\ttotal: 1.94s\tremaining: 2.51s\n",
      "61:\tlearn: 0.9255898\ttest: 0.9269565\tbest: 0.9271611 (57)\ttotal: 1.96s\tremaining: 2.47s\n",
      "62:\tlearn: 0.9259844\ttest: 0.9277749\tbest: 0.9277749 (62)\ttotal: 1.99s\tremaining: 2.43s\n",
      "63:\tlearn: 0.9261598\ttest: 0.9279795\tbest: 0.9279795 (63)\ttotal: 2.01s\tremaining: 2.39s\n",
      "64:\tlearn: 0.9264229\ttest: 0.9283887\tbest: 0.9283887 (64)\ttotal: 2.03s\tremaining: 2.35s\n",
      "65:\tlearn: 0.9265544\ttest: 0.9284910\tbest: 0.9284910 (65)\ttotal: 2.06s\tremaining: 2.31s\n",
      "66:\tlearn: 0.9270367\ttest: 0.9286957\tbest: 0.9286957 (66)\ttotal: 2.08s\tremaining: 2.27s\n",
      "67:\tlearn: 0.9270806\ttest: 0.9286957\tbest: 0.9286957 (66)\ttotal: 2.11s\tremaining: 2.23s\n",
      "68:\tlearn: 0.9276068\ttest: 0.9291049\tbest: 0.9291049 (68)\ttotal: 2.13s\tremaining: 2.19s\n",
      "69:\tlearn: 0.9279137\ttest: 0.9298210\tbest: 0.9298210 (69)\ttotal: 2.15s\tremaining: 2.15s\n",
      "70:\tlearn: 0.9288784\ttest: 0.9305371\tbest: 0.9305371 (70)\ttotal: 2.17s\tremaining: 2.11s\n",
      "71:\tlearn: 0.9289222\ttest: 0.9305371\tbest: 0.9305371 (70)\ttotal: 2.2s\tremaining: 2.08s\n",
      "72:\tlearn: 0.9293607\ttest: 0.9304348\tbest: 0.9305371 (70)\ttotal: 2.23s\tremaining: 2.04s\n",
      "73:\tlearn: 0.9294484\ttest: 0.9315601\tbest: 0.9315601 (73)\ttotal: 2.25s\tremaining: 2s\n",
      "74:\tlearn: 0.9298869\ttest: 0.9317647\tbest: 0.9317647 (74)\ttotal: 2.28s\tremaining: 1.98s\n",
      "75:\tlearn: 0.9299307\ttest: 0.9322762\tbest: 0.9322762 (75)\ttotal: 2.3s\tremaining: 1.94s\n",
      "76:\tlearn: 0.9301938\ttest: 0.9323785\tbest: 0.9323785 (76)\ttotal: 2.33s\tremaining: 1.91s\n",
      "77:\tlearn: 0.9302377\ttest: 0.9325831\tbest: 0.9325831 (77)\ttotal: 2.36s\tremaining: 1.87s\n",
      "78:\tlearn: 0.9303692\ttest: 0.9328900\tbest: 0.9328900 (78)\ttotal: 2.38s\tremaining: 1.84s\n",
      "79:\tlearn: 0.9303692\ttest: 0.9329923\tbest: 0.9329923 (79)\ttotal: 2.41s\tremaining: 1.81s\n",
      "80:\tlearn: 0.9303692\ttest: 0.9331969\tbest: 0.9331969 (80)\ttotal: 2.43s\tremaining: 1.77s\n",
      "81:\tlearn: 0.9304569\ttest: 0.9331969\tbest: 0.9331969 (80)\ttotal: 2.46s\tremaining: 1.74s\n",
      "82:\tlearn: 0.9305884\ttest: 0.9329923\tbest: 0.9331969 (80)\ttotal: 2.49s\tremaining: 1.71s\n",
      "83:\tlearn: 0.9305007\ttest: 0.9327877\tbest: 0.9331969 (80)\ttotal: 2.54s\tremaining: 1.7s\n",
      "84:\tlearn: 0.9305446\ttest: 0.9327877\tbest: 0.9331969 (80)\ttotal: 2.58s\tremaining: 1.67s\n",
      "85:\tlearn: 0.9305007\ttest: 0.9329923\tbest: 0.9331969 (80)\ttotal: 2.6s\tremaining: 1.64s\n",
      "86:\tlearn: 0.9305007\ttest: 0.9328900\tbest: 0.9331969 (80)\ttotal: 2.63s\tremaining: 1.6s\n",
      "87:\tlearn: 0.9304569\ttest: 0.9327877\tbest: 0.9331969 (80)\ttotal: 2.66s\tremaining: 1.57s\n",
      "88:\tlearn: 0.9305446\ttest: 0.9327877\tbest: 0.9331969 (80)\ttotal: 2.69s\tremaining: 1.54s\n",
      "89:\tlearn: 0.9306323\ttest: 0.9324808\tbest: 0.9331969 (80)\ttotal: 2.71s\tremaining: 1.5s\n",
      "90:\tlearn: 0.9312462\ttest: 0.9331969\tbest: 0.9331969 (80)\ttotal: 2.73s\tremaining: 1.47s\n",
      "91:\tlearn: 0.9312023\ttest: 0.9332992\tbest: 0.9332992 (91)\ttotal: 2.75s\tremaining: 1.43s\n",
      "92:\tlearn: 0.9314216\ttest: 0.9334015\tbest: 0.9334015 (92)\ttotal: 2.77s\tremaining: 1.4s\n",
      "93:\tlearn: 0.9314654\ttest: 0.9334015\tbest: 0.9334015 (92)\ttotal: 2.79s\tremaining: 1.37s\n",
      "94:\tlearn: 0.9315093\ttest: 0.9332992\tbest: 0.9334015 (92)\ttotal: 2.82s\tremaining: 1.33s\n"
     ]
    },
    {
     "name": "stdout",
     "output_type": "stream",
     "text": [
      "95:\tlearn: 0.9315969\ttest: 0.9332992\tbest: 0.9334015 (92)\ttotal: 2.84s\tremaining: 1.3s\n",
      "96:\tlearn: 0.9315969\ttest: 0.9331969\tbest: 0.9334015 (92)\ttotal: 2.87s\tremaining: 1.27s\n",
      "97:\tlearn: 0.9317285\ttest: 0.9335038\tbest: 0.9335038 (97)\ttotal: 2.89s\tremaining: 1.24s\n",
      "98:\tlearn: 0.9316846\ttest: 0.9338107\tbest: 0.9338107 (98)\ttotal: 2.93s\tremaining: 1.21s\n",
      "99:\tlearn: 0.9318162\ttest: 0.9336061\tbest: 0.9338107 (98)\ttotal: 2.96s\tremaining: 1.19s\n",
      "100:\tlearn: 0.9321670\ttest: 0.9338107\tbest: 0.9338107 (98)\ttotal: 3s\tremaining: 1.16s\n",
      "101:\tlearn: 0.9321231\ttest: 0.9338107\tbest: 0.9338107 (98)\ttotal: 3.04s\tremaining: 1.13s\n",
      "102:\tlearn: 0.9319477\ttest: 0.9339130\tbest: 0.9339130 (102)\ttotal: 3.1s\tremaining: 1.11s\n",
      "103:\tlearn: 0.9321231\ttest: 0.9339130\tbest: 0.9339130 (102)\ttotal: 3.12s\tremaining: 1.08s\n",
      "104:\tlearn: 0.9320354\ttest: 0.9340153\tbest: 0.9340153 (104)\ttotal: 3.15s\tremaining: 1.05s\n",
      "105:\tlearn: 0.9320354\ttest: 0.9340153\tbest: 0.9340153 (104)\ttotal: 3.17s\tremaining: 1.02s\n",
      "106:\tlearn: 0.9320354\ttest: 0.9340153\tbest: 0.9340153 (104)\ttotal: 3.2s\tremaining: 988ms\n",
      "107:\tlearn: 0.9321670\ttest: 0.9339130\tbest: 0.9340153 (104)\ttotal: 3.22s\tremaining: 955ms\n",
      "108:\tlearn: 0.9321670\ttest: 0.9339130\tbest: 0.9340153 (104)\ttotal: 3.23s\tremaining: 920ms\n",
      "109:\tlearn: 0.9321670\ttest: 0.9339130\tbest: 0.9340153 (104)\ttotal: 3.26s\tremaining: 888ms\n",
      "110:\tlearn: 0.9321670\ttest: 0.9339130\tbest: 0.9340153 (104)\ttotal: 3.28s\tremaining: 856ms\n",
      "111:\tlearn: 0.9323424\ttest: 0.9339130\tbest: 0.9340153 (104)\ttotal: 3.3s\tremaining: 825ms\n",
      "112:\tlearn: 0.9323862\ttest: 0.9339130\tbest: 0.9340153 (104)\ttotal: 3.32s\tremaining: 794ms\n",
      "113:\tlearn: 0.9323424\ttest: 0.9339130\tbest: 0.9340153 (104)\ttotal: 3.35s\tremaining: 764ms\n",
      "114:\tlearn: 0.9323862\ttest: 0.9340153\tbest: 0.9340153 (104)\ttotal: 3.37s\tremaining: 733ms\n",
      "115:\tlearn: 0.9324301\ttest: 0.9339130\tbest: 0.9340153 (104)\ttotal: 3.41s\tremaining: 705ms\n",
      "116:\tlearn: 0.9324301\ttest: 0.9340153\tbest: 0.9340153 (104)\ttotal: 3.45s\tremaining: 678ms\n",
      "117:\tlearn: 0.9324301\ttest: 0.9340153\tbest: 0.9340153 (104)\ttotal: 3.47s\tremaining: 646ms\n",
      "118:\tlearn: 0.9324739\ttest: 0.9341176\tbest: 0.9341176 (118)\ttotal: 3.5s\tremaining: 617ms\n",
      "119:\tlearn: 0.9326055\ttest: 0.9341176\tbest: 0.9341176 (118)\ttotal: 3.52s\tremaining: 587ms\n",
      "120:\tlearn: 0.9326055\ttest: 0.9341176\tbest: 0.9341176 (118)\ttotal: 3.55s\tremaining: 557ms\n",
      "121:\tlearn: 0.9326055\ttest: 0.9340153\tbest: 0.9341176 (118)\ttotal: 3.57s\tremaining: 527ms\n",
      "122:\tlearn: 0.9325616\ttest: 0.9340153\tbest: 0.9341176 (118)\ttotal: 3.59s\tremaining: 496ms\n",
      "123:\tlearn: 0.9326055\ttest: 0.9340153\tbest: 0.9341176 (118)\ttotal: 3.62s\tremaining: 467ms\n",
      "124:\tlearn: 0.9326493\ttest: 0.9340153\tbest: 0.9341176 (118)\ttotal: 3.64s\tremaining: 436ms\n",
      "125:\tlearn: 0.9326493\ttest: 0.9340153\tbest: 0.9341176 (118)\ttotal: 3.66s\tremaining: 406ms\n",
      "126:\tlearn: 0.9326493\ttest: 0.9340153\tbest: 0.9341176 (118)\ttotal: 3.68s\tremaining: 377ms\n",
      "127:\tlearn: 0.9326493\ttest: 0.9341176\tbest: 0.9341176 (118)\ttotal: 3.7s\tremaining: 347ms\n",
      "128:\tlearn: 0.9325616\ttest: 0.9341176\tbest: 0.9341176 (118)\ttotal: 3.72s\tremaining: 318ms\n",
      "129:\tlearn: 0.9325616\ttest: 0.9340153\tbest: 0.9341176 (118)\ttotal: 3.75s\tremaining: 289ms\n",
      "130:\tlearn: 0.9326493\ttest: 0.9341176\tbest: 0.9341176 (118)\ttotal: 3.78s\tremaining: 260ms\n",
      "131:\tlearn: 0.9326932\ttest: 0.9340153\tbest: 0.9341176 (118)\ttotal: 3.81s\tremaining: 231ms\n",
      "132:\tlearn: 0.9326493\ttest: 0.9340153\tbest: 0.9341176 (118)\ttotal: 3.85s\tremaining: 202ms\n",
      "133:\tlearn: 0.9326932\ttest: 0.9340153\tbest: 0.9341176 (118)\ttotal: 3.88s\tremaining: 174ms\n",
      "134:\tlearn: 0.9329124\ttest: 0.9340153\tbest: 0.9341176 (118)\ttotal: 3.92s\tremaining: 145ms\n",
      "135:\tlearn: 0.9328685\ttest: 0.9340153\tbest: 0.9341176 (118)\ttotal: 3.96s\tremaining: 116ms\n",
      "136:\tlearn: 0.9329124\ttest: 0.9340153\tbest: 0.9341176 (118)\ttotal: 3.99s\tremaining: 87.5ms\n",
      "137:\tlearn: 0.9327808\ttest: 0.9340153\tbest: 0.9341176 (118)\ttotal: 4.03s\tremaining: 58.4ms\n",
      "138:\tlearn: 0.9329124\ttest: 0.9340153\tbest: 0.9341176 (118)\ttotal: 4.06s\tremaining: 29.2ms\n",
      "139:\tlearn: 0.9327370\ttest: 0.9340153\tbest: 0.9341176 (118)\ttotal: 4.09s\tremaining: 0us\n",
      "\n",
      "bestTest = 0.9341176471\n",
      "bestIteration = 118\n",
      "\n",
      "Shrink model to first 119 iterations.\n"
     ]
    },
    {
     "data": {
      "text/plain": [
       "<catboost.core.CatBoostClassifier at 0x1c74d78ca00>"
      ]
     },
     "execution_count": 67,
     "metadata": {},
     "output_type": "execute_result"
    }
   ],
   "source": [
    "catboost.fit( x_train, y_train, cat_features= categorics, plot=True, eval_set=(x_test, y_test))"
   ]
  },
  {
   "cell_type": "code",
   "execution_count": 68,
   "id": "344cbc78",
   "metadata": {},
   "outputs": [
    {
     "data": {
      "text/plain": [
       "array([0, 0, 0, ..., 0, 0, 0], dtype=int64)"
      ]
     },
     "execution_count": 68,
     "metadata": {},
     "output_type": "execute_result"
    }
   ],
   "source": [
    "predictions_cat = catboost.predict(x_test)\n",
    "predictions_cat"
   ]
  },
  {
   "cell_type": "code",
   "execution_count": 69,
   "id": "2dc5c833",
   "metadata": {},
   "outputs": [
    {
     "data": {
      "text/plain": [
       "0        1\n",
       "1        0\n",
       "2        1\n",
       "3        1\n",
       "4        1\n",
       "        ..\n",
       "32576    0\n",
       "32577    0\n",
       "32578    1\n",
       "32579    0\n",
       "32580    0\n",
       "Name: loan_status, Length: 32581, dtype: int64"
      ]
     },
     "execution_count": 69,
     "metadata": {},
     "output_type": "execute_result"
    }
   ],
   "source": [
    "result"
   ]
  },
  {
   "cell_type": "code",
   "execution_count": 70,
   "id": "5c24ca7d",
   "metadata": {},
   "outputs": [
    {
     "name": "stdout",
     "output_type": "stream",
     "text": [
      "Accuracy: 93.41%\n"
     ]
    }
   ],
   "source": [
    "print(\"Accuracy: %.2f%%\" % (accuracy_score(y_test, predictions_cat) * 100.0))"
   ]
  },
  {
   "cell_type": "code",
   "execution_count": 71,
   "id": "0ec9458e",
   "metadata": {},
   "outputs": [
    {
     "data": {
      "text/plain": [
       "array([[7675,   69],\n",
       "       [ 575, 1456]], dtype=int64)"
      ]
     },
     "execution_count": 71,
     "metadata": {},
     "output_type": "execute_result"
    }
   ],
   "source": [
    "confusion_matrix(y_test, predictions_cat)"
   ]
  },
  {
   "cell_type": "code",
   "execution_count": 72,
   "id": "ab2b9807",
   "metadata": {},
   "outputs": [
    {
     "name": "stdout",
     "output_type": "stream",
     "text": [
      "              precision    recall  f1-score   support\n",
      "\n",
      "           0       0.93      0.99      0.96      7744\n",
      "           1       0.95      0.72      0.82      2031\n",
      "\n",
      "    accuracy                           0.93      9775\n",
      "   macro avg       0.94      0.85      0.89      9775\n",
      "weighted avg       0.94      0.93      0.93      9775\n",
      "\n"
     ]
    }
   ],
   "source": [
    "print(classification_report(y_test, predictions_cat))"
   ]
  },
  {
   "cell_type": "markdown",
   "id": "2b9b2472",
   "metadata": {},
   "source": [
    "##  KNN"
   ]
  },
  {
   "cell_type": "code",
   "execution_count": 73,
   "id": "8b416c51",
   "metadata": {},
   "outputs": [],
   "source": [
    "from sklearn.neighbors import KNeighborsClassifier"
   ]
  },
  {
   "cell_type": "code",
   "execution_count": 74,
   "id": "7934eaf3",
   "metadata": {},
   "outputs": [
    {
     "data": {
      "text/html": [
       "<style>#sk-container-id-3 {color: black;background-color: white;}#sk-container-id-3 pre{padding: 0;}#sk-container-id-3 div.sk-toggleable {background-color: white;}#sk-container-id-3 label.sk-toggleable__label {cursor: pointer;display: block;width: 100%;margin-bottom: 0;padding: 0.3em;box-sizing: border-box;text-align: center;}#sk-container-id-3 label.sk-toggleable__label-arrow:before {content: \"▸\";float: left;margin-right: 0.25em;color: #696969;}#sk-container-id-3 label.sk-toggleable__label-arrow:hover:before {color: black;}#sk-container-id-3 div.sk-estimator:hover label.sk-toggleable__label-arrow:before {color: black;}#sk-container-id-3 div.sk-toggleable__content {max-height: 0;max-width: 0;overflow: hidden;text-align: left;background-color: #f0f8ff;}#sk-container-id-3 div.sk-toggleable__content pre {margin: 0.2em;color: black;border-radius: 0.25em;background-color: #f0f8ff;}#sk-container-id-3 input.sk-toggleable__control:checked~div.sk-toggleable__content {max-height: 200px;max-width: 100%;overflow: auto;}#sk-container-id-3 input.sk-toggleable__control:checked~label.sk-toggleable__label-arrow:before {content: \"▾\";}#sk-container-id-3 div.sk-estimator input.sk-toggleable__control:checked~label.sk-toggleable__label {background-color: #d4ebff;}#sk-container-id-3 div.sk-label input.sk-toggleable__control:checked~label.sk-toggleable__label {background-color: #d4ebff;}#sk-container-id-3 input.sk-hidden--visually {border: 0;clip: rect(1px 1px 1px 1px);clip: rect(1px, 1px, 1px, 1px);height: 1px;margin: -1px;overflow: hidden;padding: 0;position: absolute;width: 1px;}#sk-container-id-3 div.sk-estimator {font-family: monospace;background-color: #f0f8ff;border: 1px dotted black;border-radius: 0.25em;box-sizing: border-box;margin-bottom: 0.5em;}#sk-container-id-3 div.sk-estimator:hover {background-color: #d4ebff;}#sk-container-id-3 div.sk-parallel-item::after {content: \"\";width: 100%;border-bottom: 1px solid gray;flex-grow: 1;}#sk-container-id-3 div.sk-label:hover label.sk-toggleable__label {background-color: #d4ebff;}#sk-container-id-3 div.sk-serial::before {content: \"\";position: absolute;border-left: 1px solid gray;box-sizing: border-box;top: 0;bottom: 0;left: 50%;z-index: 0;}#sk-container-id-3 div.sk-serial {display: flex;flex-direction: column;align-items: center;background-color: white;padding-right: 0.2em;padding-left: 0.2em;position: relative;}#sk-container-id-3 div.sk-item {position: relative;z-index: 1;}#sk-container-id-3 div.sk-parallel {display: flex;align-items: stretch;justify-content: center;background-color: white;position: relative;}#sk-container-id-3 div.sk-item::before, #sk-container-id-3 div.sk-parallel-item::before {content: \"\";position: absolute;border-left: 1px solid gray;box-sizing: border-box;top: 0;bottom: 0;left: 50%;z-index: -1;}#sk-container-id-3 div.sk-parallel-item {display: flex;flex-direction: column;z-index: 1;position: relative;background-color: white;}#sk-container-id-3 div.sk-parallel-item:first-child::after {align-self: flex-end;width: 50%;}#sk-container-id-3 div.sk-parallel-item:last-child::after {align-self: flex-start;width: 50%;}#sk-container-id-3 div.sk-parallel-item:only-child::after {width: 0;}#sk-container-id-3 div.sk-dashed-wrapped {border: 1px dashed gray;margin: 0 0.4em 0.5em 0.4em;box-sizing: border-box;padding-bottom: 0.4em;background-color: white;}#sk-container-id-3 div.sk-label label {font-family: monospace;font-weight: bold;display: inline-block;line-height: 1.2em;}#sk-container-id-3 div.sk-label-container {text-align: center;}#sk-container-id-3 div.sk-container {/* jupyter's `normalize.less` sets `[hidden] { display: none; }` but bootstrap.min.css set `[hidden] { display: none !important; }` so we also need the `!important` here to be able to override the default hidden behavior on the sphinx rendered scikit-learn.org. See: https://github.com/scikit-learn/scikit-learn/issues/21755 */display: inline-block !important;position: relative;}#sk-container-id-3 div.sk-text-repr-fallback {display: none;}</style><div id=\"sk-container-id-3\" class=\"sk-top-container\"><div class=\"sk-text-repr-fallback\"><pre>KNeighborsClassifier()</pre><b>In a Jupyter environment, please rerun this cell to show the HTML representation or trust the notebook. <br />On GitHub, the HTML representation is unable to render, please try loading this page with nbviewer.org.</b></div><div class=\"sk-container\" hidden><div class=\"sk-item\"><div class=\"sk-estimator sk-toggleable\"><input class=\"sk-toggleable__control sk-hidden--visually\" id=\"sk-estimator-id-3\" type=\"checkbox\" checked><label for=\"sk-estimator-id-3\" class=\"sk-toggleable__label sk-toggleable__label-arrow\">KNeighborsClassifier</label><div class=\"sk-toggleable__content\"><pre>KNeighborsClassifier()</pre></div></div></div></div></div>"
      ],
      "text/plain": [
       "KNeighborsClassifier()"
      ]
     },
     "execution_count": 74,
     "metadata": {},
     "output_type": "execute_result"
    }
   ],
   "source": [
    "knn_credit = KNeighborsClassifier(n_neighbors=5, metric='minkowski', p = 2)\n",
    "knn_credit.fit(X_credit_train, y_credit_train)"
   ]
  },
  {
   "cell_type": "code",
   "execution_count": 75,
   "id": "e01bbb76",
   "metadata": {},
   "outputs": [
    {
     "data": {
      "text/plain": [
       "array([1, 0, 0, ..., 1, 0, 0], dtype=int64)"
      ]
     },
     "execution_count": 75,
     "metadata": {},
     "output_type": "execute_result"
    }
   ],
   "source": [
    "predictions_knn = knn_credit.predict(X_credit_test)\n",
    "predictions_knn"
   ]
  },
  {
   "cell_type": "code",
   "execution_count": 76,
   "id": "3e4a3a4e",
   "metadata": {},
   "outputs": [
    {
     "data": {
      "text/plain": [
       "array([1, 0, 0, ..., 1, 0, 0], dtype=int64)"
      ]
     },
     "execution_count": 76,
     "metadata": {},
     "output_type": "execute_result"
    }
   ],
   "source": [
    "y_credit_test"
   ]
  },
  {
   "cell_type": "code",
   "execution_count": 77,
   "id": "3275769e",
   "metadata": {},
   "outputs": [
    {
     "data": {
      "text/plain": [
       "0.8538175046554934"
      ]
     },
     "execution_count": 77,
     "metadata": {},
     "output_type": "execute_result"
    }
   ],
   "source": [
    "accuracy_score(y_credit_test, predictions_knn) "
   ]
  },
  {
   "cell_type": "code",
   "execution_count": 78,
   "id": "f31d4f3e",
   "metadata": {},
   "outputs": [
    {
     "data": {
      "text/plain": [
       "0.8538175046554934"
      ]
     },
     "execution_count": 78,
     "metadata": {},
     "output_type": "execute_result"
    },
    {
     "data": {
      "image/png": "[encoded data removed]",
      "text/plain": [
       "<Figure size 432x288 with 1 Axes>"
      ]
     },
     "metadata": {
      "needs_background": "light"
     },
     "output_type": "display_data"
    }
   ],
   "source": [
    "cm = ConfusionMatrix(knn_credit)\n",
    "cm.fit(X_credit_train, y_credit_train)\n",
    "cm.score(X_credit_test, y_credit_test)"
   ]
  },
  {
   "cell_type": "code",
   "execution_count": 79,
   "id": "bd328a42",
   "metadata": {},
   "outputs": [
    {
     "name": "stdout",
     "output_type": "stream",
     "text": [
      "              precision    recall  f1-score   support\n",
      "\n",
      "           0       0.87      0.95      0.91      3367\n",
      "           1       0.75      0.49      0.59       929\n",
      "\n",
      "    accuracy                           0.85      4296\n",
      "   macro avg       0.81      0.72      0.75      4296\n",
      "weighted avg       0.84      0.85      0.84      4296\n",
      "\n"
     ]
    }
   ],
   "source": [
    "print(classification_report(y_credit_test, predictions_knn))"
   ]
  },
  {
   "cell_type": "markdown",
   "id": "a6d4ba5e",
   "metadata": {},
   "source": [
    "## SVM "
   ]
  },
  {
   "cell_type": "code",
   "execution_count": 80,
   "id": "e13234ee",
   "metadata": {},
   "outputs": [],
   "source": [
    "from sklearn.svm import SVC"
   ]
  },
  {
   "cell_type": "code",
   "execution_count": 81,
   "id": "dcf2e2bc",
   "metadata": {},
   "outputs": [
    {
     "data": {
      "text/html": [
       "<style>#sk-container-id-4 {color: black;background-color: white;}#sk-container-id-4 pre{padding: 0;}#sk-container-id-4 div.sk-toggleable {background-color: white;}#sk-container-id-4 label.sk-toggleable__label {cursor: pointer;display: block;width: 100%;margin-bottom: 0;padding: 0.3em;box-sizing: border-box;text-align: center;}#sk-container-id-4 label.sk-toggleable__label-arrow:before {content: \"▸\";float: left;margin-right: 0.25em;color: #696969;}#sk-container-id-4 label.sk-toggleable__label-arrow:hover:before {color: black;}#sk-container-id-4 div.sk-estimator:hover label.sk-toggleable__label-arrow:before {color: black;}#sk-container-id-4 div.sk-toggleable__content {max-height: 0;max-width: 0;overflow: hidden;text-align: left;background-color: #f0f8ff;}#sk-container-id-4 div.sk-toggleable__content pre {margin: 0.2em;color: black;border-radius: 0.25em;background-color: #f0f8ff;}#sk-container-id-4 input.sk-toggleable__control:checked~div.sk-toggleable__content {max-height: 200px;max-width: 100%;overflow: auto;}#sk-container-id-4 input.sk-toggleable__control:checked~label.sk-toggleable__label-arrow:before {content: \"▾\";}#sk-container-id-4 div.sk-estimator input.sk-toggleable__control:checked~label.sk-toggleable__label {background-color: #d4ebff;}#sk-container-id-4 div.sk-label input.sk-toggleable__control:checked~label.sk-toggleable__label {background-color: #d4ebff;}#sk-container-id-4 input.sk-hidden--visually {border: 0;clip: rect(1px 1px 1px 1px);clip: rect(1px, 1px, 1px, 1px);height: 1px;margin: -1px;overflow: hidden;padding: 0;position: absolute;width: 1px;}#sk-container-id-4 div.sk-estimator {font-family: monospace;background-color: #f0f8ff;border: 1px dotted black;border-radius: 0.25em;box-sizing: border-box;margin-bottom: 0.5em;}#sk-container-id-4 div.sk-estimator:hover {background-color: #d4ebff;}#sk-container-id-4 div.sk-parallel-item::after {content: \"\";width: 100%;border-bottom: 1px solid gray;flex-grow: 1;}#sk-container-id-4 div.sk-label:hover label.sk-toggleable__label {background-color: #d4ebff;}#sk-container-id-4 div.sk-serial::before {content: \"\";position: absolute;border-left: 1px solid gray;box-sizing: border-box;top: 0;bottom: 0;left: 50%;z-index: 0;}#sk-container-id-4 div.sk-serial {display: flex;flex-direction: column;align-items: center;background-color: white;padding-right: 0.2em;padding-left: 0.2em;position: relative;}#sk-container-id-4 div.sk-item {position: relative;z-index: 1;}#sk-container-id-4 div.sk-parallel {display: flex;align-items: stretch;justify-content: center;background-color: white;position: relative;}#sk-container-id-4 div.sk-item::before, #sk-container-id-4 div.sk-parallel-item::before {content: \"\";position: absolute;border-left: 1px solid gray;box-sizing: border-box;top: 0;bottom: 0;left: 50%;z-index: -1;}#sk-container-id-4 div.sk-parallel-item {display: flex;flex-direction: column;z-index: 1;position: relative;background-color: white;}#sk-container-id-4 div.sk-parallel-item:first-child::after {align-self: flex-end;width: 50%;}#sk-container-id-4 div.sk-parallel-item:last-child::after {align-self: flex-start;width: 50%;}#sk-container-id-4 div.sk-parallel-item:only-child::after {width: 0;}#sk-container-id-4 div.sk-dashed-wrapped {border: 1px dashed gray;margin: 0 0.4em 0.5em 0.4em;box-sizing: border-box;padding-bottom: 0.4em;background-color: white;}#sk-container-id-4 div.sk-label label {font-family: monospace;font-weight: bold;display: inline-block;line-height: 1.2em;}#sk-container-id-4 div.sk-label-container {text-align: center;}#sk-container-id-4 div.sk-container {/* jupyter's `normalize.less` sets `[hidden] { display: none; }` but bootstrap.min.css set `[hidden] { display: none !important; }` so we also need the `!important` here to be able to override the default hidden behavior on the sphinx rendered scikit-learn.org. See: https://github.com/scikit-learn/scikit-learn/issues/21755 */display: inline-block !important;position: relative;}#sk-container-id-4 div.sk-text-repr-fallback {display: none;}</style><div id=\"sk-container-id-4\" class=\"sk-top-container\"><div class=\"sk-text-repr-fallback\"><pre>SVC(C=2.0, random_state=1)</pre><b>In a Jupyter environment, please rerun this cell to show the HTML representation or trust the notebook. <br />On GitHub, the HTML representation is unable to render, please try loading this page with nbviewer.org.</b></div><div class=\"sk-container\" hidden><div class=\"sk-item\"><div class=\"sk-estimator sk-toggleable\"><input class=\"sk-toggleable__control sk-hidden--visually\" id=\"sk-estimator-id-4\" type=\"checkbox\" checked><label for=\"sk-estimator-id-4\" class=\"sk-toggleable__label sk-toggleable__label-arrow\">SVC</label><div class=\"sk-toggleable__content\"><pre>SVC(C=2.0, random_state=1)</pre></div></div></div></div></div>"
      ],
      "text/plain": [
       "SVC(C=2.0, random_state=1)"
      ]
     },
     "execution_count": 81,
     "metadata": {},
     "output_type": "execute_result"
    }
   ],
   "source": [
    "svm_credit = SVC(kernel='rbf', random_state=1, C = 2.0) # 2 -> 4\n",
    "svm_credit.fit(X_credit_train, y_credit_train)"
   ]
  },
  {
   "cell_type": "code",
   "execution_count": 82,
   "id": "0717e315",
   "metadata": {},
   "outputs": [
    {
     "data": {
      "text/plain": [
       "array([1, 0, 0, ..., 1, 0, 0], dtype=int64)"
      ]
     },
     "execution_count": 82,
     "metadata": {},
     "output_type": "execute_result"
    }
   ],
   "source": [
    "predictions_svm = svm_credit.predict(X_credit_test)\n",
    "predictions_svm"
   ]
  },
  {
   "cell_type": "code",
   "execution_count": 83,
   "id": "2c3bca93",
   "metadata": {},
   "outputs": [
    {
     "data": {
      "text/plain": [
       "array([1, 0, 0, ..., 1, 0, 0], dtype=int64)"
      ]
     },
     "execution_count": 83,
     "metadata": {},
     "output_type": "execute_result"
    }
   ],
   "source": [
    "y_credit_test"
   ]
  },
  {
   "cell_type": "code",
   "execution_count": 84,
   "id": "59e74a8f",
   "metadata": {},
   "outputs": [
    {
     "data": {
      "text/plain": [
       "0.8789571694599627"
      ]
     },
     "execution_count": 84,
     "metadata": {},
     "output_type": "execute_result"
    }
   ],
   "source": [
    "accuracy_score(y_credit_test, predictions_svm)"
   ]
  },
  {
   "cell_type": "code",
   "execution_count": 85,
   "id": "5d21d86c",
   "metadata": {},
   "outputs": [
    {
     "data": {
      "text/plain": [
       "0.8789571694599627"
      ]
     },
     "execution_count": 85,
     "metadata": {},
     "output_type": "execute_result"
    },
    {
     "data": {
      "image/png": "[encoded data removed]",
      "text/plain": [
       "<Figure size 432x288 with 1 Axes>"
      ]
     },
     "metadata": {
      "needs_background": "light"
     },
     "output_type": "display_data"
    }
   ],
   "source": [
    "cm = ConfusionMatrix(svm_credit)\n",
    "cm.fit(X_credit_train, y_credit_train)\n",
    "cm.score(X_credit_test, y_credit_test)"
   ]
  },
  {
   "cell_type": "code",
   "execution_count": 86,
   "id": "defac4aa",
   "metadata": {},
   "outputs": [
    {
     "name": "stdout",
     "output_type": "stream",
     "text": [
      "              precision    recall  f1-score   support\n",
      "\n",
      "           0       0.89      0.97      0.93      3367\n",
      "           1       0.82      0.56      0.67       929\n",
      "\n",
      "    accuracy                           0.88      4296\n",
      "   macro avg       0.86      0.76      0.80      4296\n",
      "weighted avg       0.87      0.88      0.87      4296\n",
      "\n"
     ]
    }
   ],
   "source": [
    "print(classification_report(y_credit_test, predictions_svm))"
   ]
  },
  {
   "cell_type": "markdown",
   "id": "c99c2773",
   "metadata": {},
   "source": [
    "## Artificial Neural Network "
   ]
  },
  {
   "cell_type": "code",
   "execution_count": 87,
   "id": "d5045ab6",
   "metadata": {},
   "outputs": [],
   "source": [
    "from sklearn.neural_network import MLPClassifier"
   ]
  },
  {
   "cell_type": "code",
   "execution_count": 88,
   "id": "0d1e0281",
   "metadata": {},
   "outputs": [
    {
     "name": "stdout",
     "output_type": "stream",
     "text": [
      "Iteration 1, loss = 0.48778439\n",
      "Iteration 2, loss = 0.37222255\n",
      "Iteration 3, loss = 0.34661688\n",
      "Iteration 4, loss = 0.33442844\n",
      "Iteration 5, loss = 0.32610983\n",
      "Iteration 6, loss = 0.32037411\n",
      "Iteration 7, loss = 0.31640489\n",
      "Iteration 8, loss = 0.31244859\n",
      "Iteration 9, loss = 0.30886055\n",
      "Iteration 10, loss = 0.30554463\n",
      "Iteration 11, loss = 0.30220648\n",
      "Iteration 12, loss = 0.29922387\n",
      "Iteration 13, loss = 0.29642603\n",
      "Iteration 14, loss = 0.29435321\n",
      "Iteration 15, loss = 0.29220983\n",
      "Iteration 16, loss = 0.28957201\n",
      "Iteration 17, loss = 0.28791212\n",
      "Iteration 18, loss = 0.28639113\n",
      "Iteration 19, loss = 0.28467835\n",
      "Iteration 20, loss = 0.28349009\n",
      "Iteration 21, loss = 0.28185535\n",
      "Iteration 22, loss = 0.28049292\n",
      "Iteration 23, loss = 0.27937536\n",
      "Iteration 24, loss = 0.27801061\n",
      "Iteration 25, loss = 0.27730303\n",
      "Iteration 26, loss = 0.27589045\n",
      "Iteration 27, loss = 0.27522787\n",
      "Iteration 28, loss = 0.27469452\n",
      "Iteration 29, loss = 0.27319905\n",
      "Iteration 30, loss = 0.27241759\n",
      "Iteration 31, loss = 0.27177587\n",
      "Iteration 32, loss = 0.27117616\n",
      "Iteration 33, loss = 0.27063420\n",
      "Iteration 34, loss = 0.26951989\n",
      "Iteration 35, loss = 0.26857057\n",
      "Iteration 36, loss = 0.26809188\n",
      "Iteration 37, loss = 0.26735807\n",
      "Iteration 38, loss = 0.26694528\n",
      "Iteration 39, loss = 0.26603735\n",
      "Iteration 40, loss = 0.26566902\n",
      "Iteration 41, loss = 0.26503732\n",
      "Iteration 42, loss = 0.26426955\n",
      "Iteration 43, loss = 0.26343119\n",
      "Iteration 44, loss = 0.26333341\n",
      "Iteration 45, loss = 0.26295802\n",
      "Iteration 46, loss = 0.26256761\n",
      "Iteration 47, loss = 0.26188026\n",
      "Iteration 48, loss = 0.26120434\n",
      "Iteration 49, loss = 0.26033997\n",
      "Iteration 50, loss = 0.26013116\n",
      "Iteration 51, loss = 0.25931487\n",
      "Iteration 52, loss = 0.25960971\n",
      "Iteration 53, loss = 0.25872601\n",
      "Iteration 54, loss = 0.25835969\n",
      "Iteration 55, loss = 0.25793055\n",
      "Iteration 56, loss = 0.25739500\n",
      "Iteration 57, loss = 0.25701218\n",
      "Iteration 58, loss = 0.25623022\n",
      "Iteration 59, loss = 0.25587366\n",
      "Iteration 60, loss = 0.25532277\n",
      "Iteration 61, loss = 0.25515969\n",
      "Iteration 62, loss = 0.25479284\n",
      "Iteration 63, loss = 0.25407848\n",
      "Iteration 64, loss = 0.25375731\n",
      "Iteration 65, loss = 0.25391667\n",
      "Iteration 66, loss = 0.25328641\n",
      "Iteration 67, loss = 0.25268164\n",
      "Iteration 68, loss = 0.25294783\n",
      "Iteration 69, loss = 0.25299621\n",
      "Iteration 70, loss = 0.25289092\n",
      "Iteration 71, loss = 0.25232713\n",
      "Iteration 72, loss = 0.25180603\n",
      "Iteration 73, loss = 0.25118077\n",
      "Iteration 74, loss = 0.25155857\n",
      "Iteration 75, loss = 0.25137418\n",
      "Iteration 76, loss = 0.25061864\n",
      "Iteration 77, loss = 0.25037180\n",
      "Iteration 78, loss = 0.25004677\n",
      "Iteration 79, loss = 0.24990831\n",
      "Iteration 80, loss = 0.24925605\n",
      "Iteration 81, loss = 0.24913689\n",
      "Iteration 82, loss = 0.24929331\n",
      "Iteration 83, loss = 0.24867148\n",
      "Iteration 84, loss = 0.24904551\n",
      "Iteration 85, loss = 0.24848589\n",
      "Iteration 86, loss = 0.24838808\n",
      "Iteration 87, loss = 0.24859279\n",
      "Iteration 88, loss = 0.24766423\n",
      "Iteration 89, loss = 0.24779842\n",
      "Iteration 90, loss = 0.24755961\n",
      "Iteration 91, loss = 0.24729964\n",
      "Iteration 92, loss = 0.24703905\n",
      "Iteration 93, loss = 0.24616432\n",
      "Iteration 94, loss = 0.24623984\n",
      "Iteration 95, loss = 0.24606032\n",
      "Iteration 96, loss = 0.24621263\n",
      "Iteration 97, loss = 0.24557946\n",
      "Iteration 98, loss = 0.24600474\n",
      "Iteration 99, loss = 0.24698893\n",
      "Iteration 100, loss = 0.24500205\n",
      "Iteration 101, loss = 0.24484729\n",
      "Iteration 102, loss = 0.24496314\n",
      "Iteration 103, loss = 0.24449541\n",
      "Iteration 104, loss = 0.24402796\n",
      "Iteration 105, loss = 0.24430894\n",
      "Iteration 106, loss = 0.24419158\n",
      "Iteration 107, loss = 0.24362412\n",
      "Iteration 108, loss = 0.24371929\n",
      "Iteration 109, loss = 0.24410601\n",
      "Iteration 110, loss = 0.24331520\n",
      "Iteration 111, loss = 0.24446685\n",
      "Iteration 112, loss = 0.24323011\n",
      "Iteration 113, loss = 0.24320280\n",
      "Iteration 114, loss = 0.24281666\n",
      "Iteration 115, loss = 0.24328289\n",
      "Iteration 116, loss = 0.24256162\n",
      "Iteration 117, loss = 0.24258631\n",
      "Iteration 118, loss = 0.24249157\n",
      "Iteration 119, loss = 0.24212570\n",
      "Iteration 120, loss = 0.24221635\n",
      "Iteration 121, loss = 0.24188725\n",
      "Iteration 122, loss = 0.24234856\n",
      "Iteration 123, loss = 0.24189424\n",
      "Iteration 124, loss = 0.24112267\n",
      "Iteration 125, loss = 0.24159857\n",
      "Iteration 126, loss = 0.24106889\n",
      "Iteration 127, loss = 0.24092703\n",
      "Iteration 128, loss = 0.24140637\n",
      "Iteration 129, loss = 0.24051801\n",
      "Iteration 130, loss = 0.24012637\n",
      "Iteration 131, loss = 0.24042555\n",
      "Iteration 132, loss = 0.24021327\n",
      "Iteration 133, loss = 0.24041650\n",
      "Iteration 134, loss = 0.24013347\n",
      "Iteration 135, loss = 0.23955419\n",
      "Iteration 136, loss = 0.23985688\n",
      "Iteration 137, loss = 0.23934638\n",
      "Iteration 138, loss = 0.23936045\n",
      "Iteration 139, loss = 0.23887831\n",
      "Iteration 140, loss = 0.23857928\n",
      "Iteration 141, loss = 0.23852964\n",
      "Iteration 142, loss = 0.23831425\n",
      "Iteration 143, loss = 0.23890448\n",
      "Iteration 144, loss = 0.23834753\n",
      "Iteration 145, loss = 0.23855054\n",
      "Iteration 146, loss = 0.23941336\n",
      "Iteration 147, loss = 0.23894053\n",
      "Iteration 148, loss = 0.23805261\n",
      "Iteration 149, loss = 0.23794624\n",
      "Iteration 150, loss = 0.23777997\n",
      "Iteration 151, loss = 0.23742679\n",
      "Iteration 152, loss = 0.23773250\n",
      "Iteration 153, loss = 0.23718553\n",
      "Iteration 154, loss = 0.23735527\n",
      "Iteration 155, loss = 0.23691995\n",
      "Iteration 156, loss = 0.23651179\n",
      "Iteration 157, loss = 0.23711969\n",
      "Iteration 158, loss = 0.23630947\n",
      "Iteration 159, loss = 0.23693431\n",
      "Iteration 160, loss = 0.23635132\n",
      "Iteration 161, loss = 0.23649250\n",
      "Iteration 162, loss = 0.23667504\n",
      "Iteration 163, loss = 0.23551316\n",
      "Iteration 164, loss = 0.23749049\n",
      "Iteration 165, loss = 0.23639851\n",
      "Iteration 166, loss = 0.23752164\n",
      "Iteration 167, loss = 0.23711057\n",
      "Iteration 168, loss = 0.23587442\n",
      "Iteration 169, loss = 0.23566345\n",
      "Iteration 170, loss = 0.23539612\n",
      "Iteration 171, loss = 0.23497448\n",
      "Iteration 172, loss = 0.23468806\n",
      "Iteration 173, loss = 0.23502180\n",
      "Iteration 174, loss = 0.23497066\n",
      "Iteration 175, loss = 0.23461642\n",
      "Iteration 176, loss = 0.23448804\n",
      "Iteration 177, loss = 0.23452575\n",
      "Iteration 178, loss = 0.23454740\n",
      "Iteration 179, loss = 0.23446569\n",
      "Iteration 180, loss = 0.23434722\n",
      "Iteration 181, loss = 0.23379377\n",
      "Iteration 182, loss = 0.23318330\n",
      "Iteration 183, loss = 0.23367909\n",
      "Iteration 184, loss = 0.23418838\n",
      "Iteration 185, loss = 0.23370222\n",
      "Iteration 186, loss = 0.23332897\n",
      "Iteration 187, loss = 0.23345610\n",
      "Iteration 188, loss = 0.23327543\n",
      "Iteration 189, loss = 0.23369957\n",
      "Iteration 190, loss = 0.23317519\n",
      "Iteration 191, loss = 0.23322566\n",
      "Iteration 192, loss = 0.23323507\n",
      "Iteration 193, loss = 0.23289717\n",
      "Iteration 194, loss = 0.23275068\n",
      "Iteration 195, loss = 0.23268867\n",
      "Iteration 196, loss = 0.23294274\n",
      "Iteration 197, loss = 0.23302581\n",
      "Iteration 198, loss = 0.23243461\n",
      "Iteration 199, loss = 0.23168441\n",
      "Iteration 200, loss = 0.23208714\n",
      "Iteration 201, loss = 0.23211168\n",
      "Iteration 202, loss = 0.23165194\n",
      "Iteration 203, loss = 0.23151507\n",
      "Iteration 204, loss = 0.23151831\n",
      "Iteration 205, loss = 0.23174051\n",
      "Iteration 206, loss = 0.23141293\n",
      "Iteration 207, loss = 0.23144363\n",
      "Iteration 208, loss = 0.23145148\n",
      "Iteration 209, loss = 0.23103390\n",
      "Iteration 210, loss = 0.23104210\n",
      "Iteration 211, loss = 0.23123660\n",
      "Iteration 212, loss = 0.23151463\n",
      "Iteration 213, loss = 0.23145984\n",
      "Iteration 214, loss = 0.23119273\n",
      "Iteration 215, loss = 0.23040061\n",
      "Iteration 216, loss = 0.23041248\n",
      "Iteration 217, loss = 0.23074207\n",
      "Iteration 218, loss = 0.23081603\n",
      "Iteration 219, loss = 0.23032476\n",
      "Iteration 220, loss = 0.23091187\n",
      "Iteration 221, loss = 0.23090645\n",
      "Iteration 222, loss = 0.23025044\n",
      "Iteration 223, loss = 0.23138505\n",
      "Iteration 224, loss = 0.23035979\n",
      "Iteration 225, loss = 0.23004098\n",
      "Iteration 226, loss = 0.23012481\n",
      "Iteration 227, loss = 0.23002938\n",
      "Iteration 228, loss = 0.22954691\n",
      "Iteration 229, loss = 0.22985397\n",
      "Iteration 230, loss = 0.23006728\n",
      "Iteration 231, loss = 0.22959562\n",
      "Iteration 232, loss = 0.22967200\n",
      "Iteration 233, loss = 0.22981316\n",
      "Iteration 234, loss = 0.23053314\n",
      "Iteration 235, loss = 0.22937307\n",
      "Iteration 236, loss = 0.22952273\n",
      "Iteration 237, loss = 0.22878176\n",
      "Iteration 238, loss = 0.22896364\n",
      "Iteration 239, loss = 0.22915070\n",
      "Iteration 240, loss = 0.22948949\n",
      "Iteration 241, loss = 0.22892216\n",
      "Iteration 242, loss = 0.22844378\n",
      "Iteration 243, loss = 0.22868755\n",
      "Iteration 244, loss = 0.22889675\n",
      "Iteration 245, loss = 0.22839101\n",
      "Iteration 246, loss = 0.22875438\n",
      "Iteration 247, loss = 0.22856158\n",
      "Iteration 248, loss = 0.22813257\n",
      "Iteration 249, loss = 0.22843392\n",
      "Iteration 250, loss = 0.22836321\n",
      "Iteration 251, loss = 0.22848090\n",
      "Iteration 252, loss = 0.22967240\n",
      "Iteration 253, loss = 0.22908889\n"
     ]
    },
    {
     "name": "stdout",
     "output_type": "stream",
     "text": [
      "Iteration 254, loss = 0.22807516\n",
      "Iteration 255, loss = 0.22826557\n",
      "Iteration 256, loss = 0.22753837\n",
      "Iteration 257, loss = 0.22807815\n",
      "Iteration 258, loss = 0.22756883\n",
      "Iteration 259, loss = 0.22753847\n",
      "Iteration 260, loss = 0.22729462\n",
      "Iteration 261, loss = 0.22730209\n",
      "Iteration 262, loss = 0.22798405\n",
      "Iteration 263, loss = 0.22704508\n",
      "Iteration 264, loss = 0.22765264\n",
      "Iteration 265, loss = 0.22709171\n",
      "Iteration 266, loss = 0.22707453\n",
      "Iteration 267, loss = 0.22739877\n",
      "Iteration 268, loss = 0.22717775\n",
      "Iteration 269, loss = 0.22676855\n",
      "Iteration 270, loss = 0.22654167\n",
      "Iteration 271, loss = 0.22660862\n",
      "Iteration 272, loss = 0.22819446\n",
      "Iteration 273, loss = 0.22747450\n",
      "Iteration 274, loss = 0.22711066\n",
      "Iteration 275, loss = 0.22655616\n",
      "Iteration 276, loss = 0.22594561\n",
      "Iteration 277, loss = 0.22593427\n",
      "Iteration 278, loss = 0.22654331\n",
      "Iteration 279, loss = 0.22649746\n",
      "Iteration 280, loss = 0.22621932\n",
      "Iteration 281, loss = 0.22631958\n",
      "Iteration 282, loss = 0.22660361\n",
      "Iteration 283, loss = 0.22572135\n",
      "Iteration 284, loss = 0.22602832\n",
      "Iteration 285, loss = 0.22612827\n",
      "Iteration 286, loss = 0.22608870\n",
      "Iteration 287, loss = 0.22616899\n",
      "Iteration 288, loss = 0.22567922\n",
      "Iteration 289, loss = 0.22594216\n",
      "Iteration 290, loss = 0.22555555\n",
      "Iteration 291, loss = 0.22553656\n",
      "Iteration 292, loss = 0.22621577\n",
      "Iteration 293, loss = 0.22574589\n",
      "Iteration 294, loss = 0.22684652\n",
      "Iteration 295, loss = 0.22549830\n",
      "Iteration 296, loss = 0.22533588\n",
      "Iteration 297, loss = 0.22536234\n",
      "Iteration 298, loss = 0.22562864\n",
      "Iteration 299, loss = 0.22603014\n",
      "Iteration 300, loss = 0.22526158\n",
      "Iteration 301, loss = 0.22541942\n",
      "Iteration 302, loss = 0.22537900\n",
      "Iteration 303, loss = 0.22515744\n",
      "Iteration 304, loss = 0.22516422\n",
      "Iteration 305, loss = 0.22476214\n",
      "Iteration 306, loss = 0.22425662\n",
      "Iteration 307, loss = 0.22431619\n",
      "Iteration 308, loss = 0.22548805\n",
      "Iteration 309, loss = 0.22497474\n",
      "Iteration 310, loss = 0.22429708\n",
      "Iteration 311, loss = 0.22459978\n",
      "Iteration 312, loss = 0.22450047\n",
      "Iteration 313, loss = 0.22405163\n",
      "Iteration 314, loss = 0.22444481\n",
      "Iteration 315, loss = 0.22418508\n",
      "Iteration 316, loss = 0.22424756\n",
      "Iteration 317, loss = 0.22458962\n",
      "Iteration 318, loss = 0.22451099\n",
      "Iteration 319, loss = 0.22365407\n",
      "Iteration 320, loss = 0.22383658\n",
      "Iteration 321, loss = 0.22348540\n",
      "Iteration 322, loss = 0.22393169\n",
      "Iteration 323, loss = 0.22426975\n",
      "Iteration 324, loss = 0.22345333\n",
      "Iteration 325, loss = 0.22429241\n",
      "Iteration 326, loss = 0.22504514\n",
      "Iteration 327, loss = 0.22383373\n",
      "Iteration 328, loss = 0.22305838\n",
      "Iteration 329, loss = 0.22307228\n",
      "Iteration 330, loss = 0.22358404\n",
      "Iteration 331, loss = 0.22289268\n",
      "Iteration 332, loss = 0.22294858\n",
      "Iteration 333, loss = 0.22317287\n",
      "Iteration 334, loss = 0.22307079\n",
      "Iteration 335, loss = 0.22268365\n",
      "Iteration 336, loss = 0.22309519\n",
      "Iteration 337, loss = 0.22267368\n",
      "Iteration 338, loss = 0.22293764\n",
      "Iteration 339, loss = 0.22260376\n",
      "Iteration 340, loss = 0.22245505\n",
      "Iteration 341, loss = 0.22254924\n",
      "Iteration 342, loss = 0.22292690\n",
      "Iteration 343, loss = 0.22299893\n",
      "Iteration 344, loss = 0.22324805\n",
      "Iteration 345, loss = 0.22270688\n",
      "Iteration 346, loss = 0.22222787\n",
      "Iteration 347, loss = 0.22230162\n",
      "Iteration 348, loss = 0.22333145\n",
      "Iteration 349, loss = 0.22203157\n",
      "Iteration 350, loss = 0.22232049\n",
      "Iteration 351, loss = 0.22227961\n",
      "Iteration 352, loss = 0.22301554\n",
      "Iteration 353, loss = 0.22212751\n",
      "Iteration 354, loss = 0.22221857\n",
      "Iteration 355, loss = 0.22199125\n",
      "Iteration 356, loss = 0.22205039\n",
      "Iteration 357, loss = 0.22224858\n",
      "Iteration 358, loss = 0.22200343\n",
      "Iteration 359, loss = 0.22232674\n",
      "Iteration 360, loss = 0.22221025\n",
      "Iteration 361, loss = 0.22195224\n",
      "Iteration 362, loss = 0.22241800\n",
      "Iteration 363, loss = 0.22216459\n",
      "Iteration 364, loss = 0.22237403\n",
      "Iteration 365, loss = 0.22198546\n",
      "Iteration 366, loss = 0.22223725\n",
      "Iteration 367, loss = 0.22253978\n",
      "Iteration 368, loss = 0.22185287\n",
      "Iteration 369, loss = 0.22223826\n",
      "Iteration 370, loss = 0.22185558\n",
      "Iteration 371, loss = 0.22218925\n",
      "Iteration 372, loss = 0.22177300\n",
      "Iteration 373, loss = 0.22165951\n",
      "Iteration 374, loss = 0.22122700\n",
      "Iteration 375, loss = 0.22130475\n",
      "Iteration 376, loss = 0.22183924\n",
      "Iteration 377, loss = 0.22212741\n",
      "Iteration 378, loss = 0.22210020\n",
      "Iteration 379, loss = 0.22135481\n",
      "Iteration 380, loss = 0.22105203\n",
      "Iteration 381, loss = 0.22119993\n",
      "Iteration 382, loss = 0.22100332\n",
      "Iteration 383, loss = 0.22131126\n",
      "Iteration 384, loss = 0.22189981\n",
      "Iteration 385, loss = 0.22221413\n",
      "Iteration 386, loss = 0.22108955\n",
      "Iteration 387, loss = 0.22137000\n",
      "Iteration 388, loss = 0.22235154\n",
      "Iteration 389, loss = 0.22172160\n",
      "Iteration 390, loss = 0.22125022\n",
      "Iteration 391, loss = 0.22158882\n",
      "Iteration 392, loss = 0.22099752\n",
      "Iteration 393, loss = 0.22073590\n",
      "Iteration 394, loss = 0.22132061\n",
      "Iteration 395, loss = 0.22148565\n",
      "Iteration 396, loss = 0.22092519\n",
      "Iteration 397, loss = 0.22129737\n",
      "Iteration 398, loss = 0.22061735\n",
      "Iteration 399, loss = 0.22030312\n",
      "Iteration 400, loss = 0.22148156\n",
      "Iteration 401, loss = 0.22070320\n",
      "Iteration 402, loss = 0.22078770\n",
      "Iteration 403, loss = 0.22026061\n",
      "Iteration 404, loss = 0.22075386\n",
      "Iteration 405, loss = 0.22078187\n",
      "Iteration 406, loss = 0.22064664\n",
      "Iteration 407, loss = 0.22038112\n",
      "Iteration 408, loss = 0.22081505\n",
      "Iteration 409, loss = 0.22122372\n",
      "Iteration 410, loss = 0.22037009\n",
      "Iteration 411, loss = 0.22094837\n",
      "Iteration 412, loss = 0.22065559\n",
      "Iteration 413, loss = 0.22062668\n",
      "Iteration 414, loss = 0.22142388\n",
      "Training loss did not improve more than tol=0.000010 for 10 consecutive epochs. Stopping.\n"
     ]
    },
    {
     "data": {
      "text/html": [
       "<style>#sk-container-id-5 {color: black;background-color: white;}#sk-container-id-5 pre{padding: 0;}#sk-container-id-5 div.sk-toggleable {background-color: white;}#sk-container-id-5 label.sk-toggleable__label {cursor: pointer;display: block;width: 100%;margin-bottom: 0;padding: 0.3em;box-sizing: border-box;text-align: center;}#sk-container-id-5 label.sk-toggleable__label-arrow:before {content: \"▸\";float: left;margin-right: 0.25em;color: #696969;}#sk-container-id-5 label.sk-toggleable__label-arrow:hover:before {color: black;}#sk-container-id-5 div.sk-estimator:hover label.sk-toggleable__label-arrow:before {color: black;}#sk-container-id-5 div.sk-toggleable__content {max-height: 0;max-width: 0;overflow: hidden;text-align: left;background-color: #f0f8ff;}#sk-container-id-5 div.sk-toggleable__content pre {margin: 0.2em;color: black;border-radius: 0.25em;background-color: #f0f8ff;}#sk-container-id-5 input.sk-toggleable__control:checked~div.sk-toggleable__content {max-height: 200px;max-width: 100%;overflow: auto;}#sk-container-id-5 input.sk-toggleable__control:checked~label.sk-toggleable__label-arrow:before {content: \"▾\";}#sk-container-id-5 div.sk-estimator input.sk-toggleable__control:checked~label.sk-toggleable__label {background-color: #d4ebff;}#sk-container-id-5 div.sk-label input.sk-toggleable__control:checked~label.sk-toggleable__label {background-color: #d4ebff;}#sk-container-id-5 input.sk-hidden--visually {border: 0;clip: rect(1px 1px 1px 1px);clip: rect(1px, 1px, 1px, 1px);height: 1px;margin: -1px;overflow: hidden;padding: 0;position: absolute;width: 1px;}#sk-container-id-5 div.sk-estimator {font-family: monospace;background-color: #f0f8ff;border: 1px dotted black;border-radius: 0.25em;box-sizing: border-box;margin-bottom: 0.5em;}#sk-container-id-5 div.sk-estimator:hover {background-color: #d4ebff;}#sk-container-id-5 div.sk-parallel-item::after {content: \"\";width: 100%;border-bottom: 1px solid gray;flex-grow: 1;}#sk-container-id-5 div.sk-label:hover label.sk-toggleable__label {background-color: #d4ebff;}#sk-container-id-5 div.sk-serial::before {content: \"\";position: absolute;border-left: 1px solid gray;box-sizing: border-box;top: 0;bottom: 0;left: 50%;z-index: 0;}#sk-container-id-5 div.sk-serial {display: flex;flex-direction: column;align-items: center;background-color: white;padding-right: 0.2em;padding-left: 0.2em;position: relative;}#sk-container-id-5 div.sk-item {position: relative;z-index: 1;}#sk-container-id-5 div.sk-parallel {display: flex;align-items: stretch;justify-content: center;background-color: white;position: relative;}#sk-container-id-5 div.sk-item::before, #sk-container-id-5 div.sk-parallel-item::before {content: \"\";position: absolute;border-left: 1px solid gray;box-sizing: border-box;top: 0;bottom: 0;left: 50%;z-index: -1;}#sk-container-id-5 div.sk-parallel-item {display: flex;flex-direction: column;z-index: 1;position: relative;background-color: white;}#sk-container-id-5 div.sk-parallel-item:first-child::after {align-self: flex-end;width: 50%;}#sk-container-id-5 div.sk-parallel-item:last-child::after {align-self: flex-start;width: 50%;}#sk-container-id-5 div.sk-parallel-item:only-child::after {width: 0;}#sk-container-id-5 div.sk-dashed-wrapped {border: 1px dashed gray;margin: 0 0.4em 0.5em 0.4em;box-sizing: border-box;padding-bottom: 0.4em;background-color: white;}#sk-container-id-5 div.sk-label label {font-family: monospace;font-weight: bold;display: inline-block;line-height: 1.2em;}#sk-container-id-5 div.sk-label-container {text-align: center;}#sk-container-id-5 div.sk-container {/* jupyter's `normalize.less` sets `[hidden] { display: none; }` but bootstrap.min.css set `[hidden] { display: none !important; }` so we also need the `!important` here to be able to override the default hidden behavior on the sphinx rendered scikit-learn.org. See: https://github.com/scikit-learn/scikit-learn/issues/21755 */display: inline-block !important;position: relative;}#sk-container-id-5 div.sk-text-repr-fallback {display: none;}</style><div id=\"sk-container-id-5\" class=\"sk-top-container\"><div class=\"sk-text-repr-fallback\"><pre>MLPClassifier(hidden_layer_sizes=(20, 20), max_iter=1500, tol=1e-05,\n",
       "              verbose=True)</pre><b>In a Jupyter environment, please rerun this cell to show the HTML representation or trust the notebook. <br />On GitHub, the HTML representation is unable to render, please try loading this page with nbviewer.org.</b></div><div class=\"sk-container\" hidden><div class=\"sk-item\"><div class=\"sk-estimator sk-toggleable\"><input class=\"sk-toggleable__control sk-hidden--visually\" id=\"sk-estimator-id-5\" type=\"checkbox\" checked><label for=\"sk-estimator-id-5\" class=\"sk-toggleable__label sk-toggleable__label-arrow\">MLPClassifier</label><div class=\"sk-toggleable__content\"><pre>MLPClassifier(hidden_layer_sizes=(20, 20), max_iter=1500, tol=1e-05,\n",
       "              verbose=True)</pre></div></div></div></div></div>"
      ],
      "text/plain": [
       "MLPClassifier(hidden_layer_sizes=(20, 20), max_iter=1500, tol=1e-05,\n",
       "              verbose=True)"
      ]
     },
     "execution_count": 88,
     "metadata": {},
     "output_type": "execute_result"
    }
   ],
   "source": [
    "rede_neural_credit = MLPClassifier(max_iter=1500, verbose=True, tol=0.0000100,\n",
    "                                   solver = 'adam', activation = 'relu',\n",
    "                                   hidden_layer_sizes = (20,20))\n",
    "rede_neural_credit.fit(X_credit_train, y_credit_train)"
   ]
  },
  {
   "cell_type": "code",
   "execution_count": 89,
   "id": "b5eb1b4e",
   "metadata": {},
   "outputs": [
    {
     "data": {
      "text/plain": [
       "array([1, 0, 0, ..., 1, 0, 0], dtype=int64)"
      ]
     },
     "execution_count": 89,
     "metadata": {},
     "output_type": "execute_result"
    }
   ],
   "source": [
    "predictions_neural = rede_neural_credit.predict(X_credit_test)\n",
    "predictions_neural"
   ]
  },
  {
   "cell_type": "code",
   "execution_count": 90,
   "id": "36f71c9f",
   "metadata": {},
   "outputs": [
    {
     "data": {
      "text/plain": [
       "array([1, 0, 0, ..., 1, 0, 0], dtype=int64)"
      ]
     },
     "execution_count": 90,
     "metadata": {},
     "output_type": "execute_result"
    }
   ],
   "source": [
    "y_credit_test"
   ]
  },
  {
   "cell_type": "code",
   "execution_count": 91,
   "id": "f94b62c5",
   "metadata": {},
   "outputs": [
    {
     "data": {
      "text/plain": [
       "0.8777932960893855"
      ]
     },
     "execution_count": 91,
     "metadata": {},
     "output_type": "execute_result"
    }
   ],
   "source": [
    "accuracy_score(y_credit_test, predictions_neural)"
   ]
  },
  {
   "cell_type": "code",
   "execution_count": 92,
   "id": "864e0db4",
   "metadata": {},
   "outputs": [
    {
     "data": {
      "text/plain": [
       "0.8777932960893855"
      ]
     },
     "execution_count": 92,
     "metadata": {},
     "output_type": "execute_result"
    },
    {
     "data": {
      "image/png": "[encoded data removed]",
      "text/plain": [
       "<Figure size 432x288 with 1 Axes>"
      ]
     },
     "metadata": {
      "needs_background": "light"
     },
     "output_type": "display_data"
    }
   ],
   "source": [
    "cm = ConfusionMatrix(rede_neural_credit)\n",
    "cm.fit(X_credit_train, y_credit_train)\n",
    "cm.score(X_credit_test, y_credit_test)"
   ]
  },
  {
   "cell_type": "code",
   "execution_count": 93,
   "id": "e22ec76f",
   "metadata": {},
   "outputs": [
    {
     "name": "stdout",
     "output_type": "stream",
     "text": [
      "              precision    recall  f1-score   support\n",
      "\n",
      "           0       0.90      0.95      0.92      3367\n",
      "           1       0.77      0.62      0.69       929\n",
      "\n",
      "    accuracy                           0.88      4296\n",
      "   macro avg       0.84      0.78      0.81      4296\n",
      "weighted avg       0.87      0.88      0.87      4296\n",
      "\n"
     ]
    }
   ],
   "source": [
    "print(classification_report(y_credit_test, predictions_neural))"
   ]
  },
  {
   "cell_type": "code",
   "execution_count": null,
   "id": "6918c165",
   "metadata": {},
   "outputs": [],
   "source": []
  }
 ],
 "metadata": {
  "kernelspec": {
   "display_name": "Python 3 (ipykernel)",
   "language": "python",
   "name": "python3"
  },
  "language_info": {
   "codemirror_mode": {
    "name": "ipython",
    "version": 3
   },
   "file_extension": ".py",
   "mimetype": "text/x-python",
   "name": "python",
   "nbconvert_exporter": "python",
   "pygments_lexer": "ipython3",
   "version": "3.10.5"
  }
 },
 "nbformat": 4,
 "nbformat_minor": 5
}
